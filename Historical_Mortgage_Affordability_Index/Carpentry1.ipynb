{
 "cells": [
  {
   "cell_type": "code",
   "execution_count": 194,
   "metadata": {
    "collapsed": true
   },
   "outputs": [],
   "source": [
    "library(readxl)\n",
    "library(dplyr)\n",
    "library(tidyr)"
   ]
  },
  {
   "cell_type": "code",
   "execution_count": 195,
   "metadata": {
    "collapsed": true
   },
   "outputs": [],
   "source": [
    "df <- read_excel(\"Book1.xlsx\")"
   ]
  },
  {
   "cell_type": "code",
   "execution_count": 196,
   "metadata": {},
   "outputs": [
    {
     "data": {
      "text/html": [
       "<table>\n",
       "<thead><tr><th scope=col>State</th><th scope=col>Year</th><th scope=col>PP</th><th scope=col>LtoP_ratio</th><th scope=col>Rate</th><th scope=col>APR</th></tr></thead>\n",
       "<tbody>\n",
       "\t<tr><td>Alabama</td><td>1978   </td><td>53.4   </td><td>79.1   </td><td> 9.40  </td><td> 9.78  </td></tr>\n",
       "\t<tr><td>Alabama</td><td>1979   </td><td>60.7   </td><td>77.0   </td><td>10.53  </td><td>10.89  </td></tr>\n",
       "\t<tr><td>Alabama</td><td>1980   </td><td>69.7   </td><td>75.7   </td><td>11.94  </td><td>12.36  </td></tr>\n",
       "\t<tr><td>Alabama</td><td>1981   </td><td>59.6   </td><td>82.5   </td><td>13.21  </td><td>13.77  </td></tr>\n",
       "\t<tr><td>Alabama</td><td>1982   </td><td>53.0   </td><td>86.2   </td><td>14.21  </td><td>14.64  </td></tr>\n",
       "\t<tr><td>Alabama</td><td>1983   </td><td>61.5   </td><td>81.1   </td><td>11.87  </td><td>12.44  </td></tr>\n",
       "</tbody>\n",
       "</table>\n"
      ],
      "text/latex": [
       "\\begin{tabular}{r|llllll}\n",
       " State & Year & PP & LtoP\\_ratio & Rate & APR\\\\\n",
       "\\hline\n",
       "\t Alabama & 1978    & 53.4    & 79.1    &  9.40   &  9.78  \\\\\n",
       "\t Alabama & 1979    & 60.7    & 77.0    & 10.53   & 10.89  \\\\\n",
       "\t Alabama & 1980    & 69.7    & 75.7    & 11.94   & 12.36  \\\\\n",
       "\t Alabama & 1981    & 59.6    & 82.5    & 13.21   & 13.77  \\\\\n",
       "\t Alabama & 1982    & 53.0    & 86.2    & 14.21   & 14.64  \\\\\n",
       "\t Alabama & 1983    & 61.5    & 81.1    & 11.87   & 12.44  \\\\\n",
       "\\end{tabular}\n"
      ],
      "text/markdown": [
       "\n",
       "State | Year | PP | LtoP_ratio | Rate | APR | \n",
       "|---|---|---|---|---|---|\n",
       "| Alabama | 1978    | 53.4    | 79.1    |  9.40   |  9.78   | \n",
       "| Alabama | 1979    | 60.7    | 77.0    | 10.53   | 10.89   | \n",
       "| Alabama | 1980    | 69.7    | 75.7    | 11.94   | 12.36   | \n",
       "| Alabama | 1981    | 59.6    | 82.5    | 13.21   | 13.77   | \n",
       "| Alabama | 1982    | 53.0    | 86.2    | 14.21   | 14.64   | \n",
       "| Alabama | 1983    | 61.5    | 81.1    | 11.87   | 12.44   | \n",
       "\n",
       "\n"
      ],
      "text/plain": [
       "  State   Year PP   LtoP_ratio Rate  APR  \n",
       "1 Alabama 1978 53.4 79.1        9.40  9.78\n",
       "2 Alabama 1979 60.7 77.0       10.53 10.89\n",
       "3 Alabama 1980 69.7 75.7       11.94 12.36\n",
       "4 Alabama 1981 59.6 82.5       13.21 13.77\n",
       "5 Alabama 1982 53.0 86.2       14.21 14.64\n",
       "6 Alabama 1983 61.5 81.1       11.87 12.44"
      ]
     },
     "metadata": {},
     "output_type": "display_data"
    }
   ],
   "source": [
    "head(df)"
   ]
  },
  {
   "cell_type": "code",
   "execution_count": 197,
   "metadata": {},
   "outputs": [
    {
     "data": {
      "text/html": [
       "<table>\n",
       "<thead><tr><th scope=col>State</th><th scope=col>Year</th><th scope=col>PP</th><th scope=col>LtoP_ratio</th><th scope=col>Rate</th><th scope=col>APR</th><th scope=col>Purchase_Price</th></tr></thead>\n",
       "<tbody>\n",
       "\t<tr><td>Alabama</td><td>1978   </td><td>53.4   </td><td>0.791  </td><td> 9.40  </td><td> 9.78  </td><td>53400  </td></tr>\n",
       "\t<tr><td>Alabama</td><td>1979   </td><td>60.7   </td><td>0.770  </td><td>10.53  </td><td>10.89  </td><td>60700  </td></tr>\n",
       "\t<tr><td>Alabama</td><td>1980   </td><td>69.7   </td><td>0.757  </td><td>11.94  </td><td>12.36  </td><td>69700  </td></tr>\n",
       "\t<tr><td>Alabama</td><td>1981   </td><td>59.6   </td><td>0.825  </td><td>13.21  </td><td>13.77  </td><td>59600  </td></tr>\n",
       "\t<tr><td>Alabama</td><td>1982   </td><td>53.0   </td><td>0.862  </td><td>14.21  </td><td>14.64  </td><td>53000  </td></tr>\n",
       "\t<tr><td>Alabama</td><td>1983   </td><td>61.5   </td><td>0.811  </td><td>11.87  </td><td>12.44  </td><td>61500  </td></tr>\n",
       "</tbody>\n",
       "</table>\n"
      ],
      "text/latex": [
       "\\begin{tabular}{r|lllllll}\n",
       " State & Year & PP & LtoP\\_ratio & Rate & APR & Purchase\\_Price\\\\\n",
       "\\hline\n",
       "\t Alabama & 1978    & 53.4    & 0.791   &  9.40   &  9.78   & 53400  \\\\\n",
       "\t Alabama & 1979    & 60.7    & 0.770   & 10.53   & 10.89   & 60700  \\\\\n",
       "\t Alabama & 1980    & 69.7    & 0.757   & 11.94   & 12.36   & 69700  \\\\\n",
       "\t Alabama & 1981    & 59.6    & 0.825   & 13.21   & 13.77   & 59600  \\\\\n",
       "\t Alabama & 1982    & 53.0    & 0.862   & 14.21   & 14.64   & 53000  \\\\\n",
       "\t Alabama & 1983    & 61.5    & 0.811   & 11.87   & 12.44   & 61500  \\\\\n",
       "\\end{tabular}\n"
      ],
      "text/markdown": [
       "\n",
       "State | Year | PP | LtoP_ratio | Rate | APR | Purchase_Price | \n",
       "|---|---|---|---|---|---|\n",
       "| Alabama | 1978    | 53.4    | 0.791   |  9.40   |  9.78   | 53400   | \n",
       "| Alabama | 1979    | 60.7    | 0.770   | 10.53   | 10.89   | 60700   | \n",
       "| Alabama | 1980    | 69.7    | 0.757   | 11.94   | 12.36   | 69700   | \n",
       "| Alabama | 1981    | 59.6    | 0.825   | 13.21   | 13.77   | 59600   | \n",
       "| Alabama | 1982    | 53.0    | 0.862   | 14.21   | 14.64   | 53000   | \n",
       "| Alabama | 1983    | 61.5    | 0.811   | 11.87   | 12.44   | 61500   | \n",
       "\n",
       "\n"
      ],
      "text/plain": [
       "  State   Year PP   LtoP_ratio Rate  APR   Purchase_Price\n",
       "1 Alabama 1978 53.4 0.791       9.40  9.78 53400         \n",
       "2 Alabama 1979 60.7 0.770      10.53 10.89 60700         \n",
       "3 Alabama 1980 69.7 0.757      11.94 12.36 69700         \n",
       "4 Alabama 1981 59.6 0.825      13.21 13.77 59600         \n",
       "5 Alabama 1982 53.0 0.862      14.21 14.64 53000         \n",
       "6 Alabama 1983 61.5 0.811      11.87 12.44 61500         "
      ]
     },
     "metadata": {},
     "output_type": "display_data"
    }
   ],
   "source": [
    "df$Purchase_Price <- round((df$PP*1000), 0)\n",
    "df$LtoP_ratio <- df$LtoP_ratio/100\n",
    "head(df)"
   ]
  },
  {
   "cell_type": "code",
   "execution_count": 198,
   "metadata": {},
   "outputs": [
    {
     "data": {
      "text/html": [
       "<table>\n",
       "<thead><tr><th scope=col>State</th><th scope=col>Year</th><th scope=col>PP</th><th scope=col>LtoP_ratio</th><th scope=col>Rate</th><th scope=col>APR</th><th scope=col>Purchase_Price</th><th scope=col>Mtg_Amt</th></tr></thead>\n",
       "<tbody>\n",
       "\t<tr><td>Alabama</td><td>1978   </td><td>53.4   </td><td>0.791  </td><td> 9.40  </td><td> 9.78  </td><td>53400  </td><td>42239  </td></tr>\n",
       "\t<tr><td>Alabama</td><td>1979   </td><td>60.7   </td><td>0.770  </td><td>10.53  </td><td>10.89  </td><td>60700  </td><td>46739  </td></tr>\n",
       "\t<tr><td>Alabama</td><td>1980   </td><td>69.7   </td><td>0.757  </td><td>11.94  </td><td>12.36  </td><td>69700  </td><td>52763  </td></tr>\n",
       "\t<tr><td>Alabama</td><td>1981   </td><td>59.6   </td><td>0.825  </td><td>13.21  </td><td>13.77  </td><td>59600  </td><td>49170  </td></tr>\n",
       "\t<tr><td>Alabama</td><td>1982   </td><td>53.0   </td><td>0.862  </td><td>14.21  </td><td>14.64  </td><td>53000  </td><td>45686  </td></tr>\n",
       "\t<tr><td>Alabama</td><td>1983   </td><td>61.5   </td><td>0.811  </td><td>11.87  </td><td>12.44  </td><td>61500  </td><td>49876  </td></tr>\n",
       "</tbody>\n",
       "</table>\n"
      ],
      "text/latex": [
       "\\begin{tabular}{r|llllllll}\n",
       " State & Year & PP & LtoP\\_ratio & Rate & APR & Purchase\\_Price & Mtg\\_Amt\\\\\n",
       "\\hline\n",
       "\t Alabama & 1978    & 53.4    & 0.791   &  9.40   &  9.78   & 53400   & 42239  \\\\\n",
       "\t Alabama & 1979    & 60.7    & 0.770   & 10.53   & 10.89   & 60700   & 46739  \\\\\n",
       "\t Alabama & 1980    & 69.7    & 0.757   & 11.94   & 12.36   & 69700   & 52763  \\\\\n",
       "\t Alabama & 1981    & 59.6    & 0.825   & 13.21   & 13.77   & 59600   & 49170  \\\\\n",
       "\t Alabama & 1982    & 53.0    & 0.862   & 14.21   & 14.64   & 53000   & 45686  \\\\\n",
       "\t Alabama & 1983    & 61.5    & 0.811   & 11.87   & 12.44   & 61500   & 49876  \\\\\n",
       "\\end{tabular}\n"
      ],
      "text/markdown": [
       "\n",
       "State | Year | PP | LtoP_ratio | Rate | APR | Purchase_Price | Mtg_Amt | \n",
       "|---|---|---|---|---|---|\n",
       "| Alabama | 1978    | 53.4    | 0.791   |  9.40   |  9.78   | 53400   | 42239   | \n",
       "| Alabama | 1979    | 60.7    | 0.770   | 10.53   | 10.89   | 60700   | 46739   | \n",
       "| Alabama | 1980    | 69.7    | 0.757   | 11.94   | 12.36   | 69700   | 52763   | \n",
       "| Alabama | 1981    | 59.6    | 0.825   | 13.21   | 13.77   | 59600   | 49170   | \n",
       "| Alabama | 1982    | 53.0    | 0.862   | 14.21   | 14.64   | 53000   | 45686   | \n",
       "| Alabama | 1983    | 61.5    | 0.811   | 11.87   | 12.44   | 61500   | 49876   | \n",
       "\n",
       "\n"
      ],
      "text/plain": [
       "  State   Year PP   LtoP_ratio Rate  APR   Purchase_Price Mtg_Amt\n",
       "1 Alabama 1978 53.4 0.791       9.40  9.78 53400          42239  \n",
       "2 Alabama 1979 60.7 0.770      10.53 10.89 60700          46739  \n",
       "3 Alabama 1980 69.7 0.757      11.94 12.36 69700          52763  \n",
       "4 Alabama 1981 59.6 0.825      13.21 13.77 59600          49170  \n",
       "5 Alabama 1982 53.0 0.862      14.21 14.64 53000          45686  \n",
       "6 Alabama 1983 61.5 0.811      11.87 12.44 61500          49876  "
      ]
     },
     "metadata": {},
     "output_type": "display_data"
    }
   ],
   "source": [
    "df$Mtg_Amt <- round((df$Purchase_Price * df$LtoP_ratio), 0)\n",
    "head(df)"
   ]
  },
  {
   "cell_type": "code",
   "execution_count": 199,
   "metadata": {},
   "outputs": [
    {
     "data": {
      "text/html": [
       "<table>\n",
       "<thead><tr><th scope=col>State</th><th scope=col>Year</th><th scope=col>PP</th><th scope=col>LtoP_ratio</th><th scope=col>Rate</th><th scope=col>APR</th><th scope=col>Purchase_Price</th><th scope=col>Mtg_Amt</th><th scope=col>Down_Pmt</th></tr></thead>\n",
       "<tbody>\n",
       "\t<tr><td>Alabama</td><td>1978   </td><td>53.4   </td><td>0.791  </td><td> 9.40  </td><td> 9.78  </td><td>53400  </td><td>42239  </td><td>11161  </td></tr>\n",
       "\t<tr><td>Alabama</td><td>1979   </td><td>60.7   </td><td>0.770  </td><td>10.53  </td><td>10.89  </td><td>60700  </td><td>46739  </td><td>13961  </td></tr>\n",
       "\t<tr><td>Alabama</td><td>1980   </td><td>69.7   </td><td>0.757  </td><td>11.94  </td><td>12.36  </td><td>69700  </td><td>52763  </td><td>16937  </td></tr>\n",
       "\t<tr><td>Alabama</td><td>1981   </td><td>59.6   </td><td>0.825  </td><td>13.21  </td><td>13.77  </td><td>59600  </td><td>49170  </td><td>10430  </td></tr>\n",
       "\t<tr><td>Alabama</td><td>1982   </td><td>53.0   </td><td>0.862  </td><td>14.21  </td><td>14.64  </td><td>53000  </td><td>45686  </td><td> 7314  </td></tr>\n",
       "\t<tr><td>Alabama</td><td>1983   </td><td>61.5   </td><td>0.811  </td><td>11.87  </td><td>12.44  </td><td>61500  </td><td>49876  </td><td>11624  </td></tr>\n",
       "</tbody>\n",
       "</table>\n"
      ],
      "text/latex": [
       "\\begin{tabular}{r|lllllllll}\n",
       " State & Year & PP & LtoP\\_ratio & Rate & APR & Purchase\\_Price & Mtg\\_Amt & Down\\_Pmt\\\\\n",
       "\\hline\n",
       "\t Alabama & 1978    & 53.4    & 0.791   &  9.40   &  9.78   & 53400   & 42239   & 11161  \\\\\n",
       "\t Alabama & 1979    & 60.7    & 0.770   & 10.53   & 10.89   & 60700   & 46739   & 13961  \\\\\n",
       "\t Alabama & 1980    & 69.7    & 0.757   & 11.94   & 12.36   & 69700   & 52763   & 16937  \\\\\n",
       "\t Alabama & 1981    & 59.6    & 0.825   & 13.21   & 13.77   & 59600   & 49170   & 10430  \\\\\n",
       "\t Alabama & 1982    & 53.0    & 0.862   & 14.21   & 14.64   & 53000   & 45686   &  7314  \\\\\n",
       "\t Alabama & 1983    & 61.5    & 0.811   & 11.87   & 12.44   & 61500   & 49876   & 11624  \\\\\n",
       "\\end{tabular}\n"
      ],
      "text/markdown": [
       "\n",
       "State | Year | PP | LtoP_ratio | Rate | APR | Purchase_Price | Mtg_Amt | Down_Pmt | \n",
       "|---|---|---|---|---|---|\n",
       "| Alabama | 1978    | 53.4    | 0.791   |  9.40   |  9.78   | 53400   | 42239   | 11161   | \n",
       "| Alabama | 1979    | 60.7    | 0.770   | 10.53   | 10.89   | 60700   | 46739   | 13961   | \n",
       "| Alabama | 1980    | 69.7    | 0.757   | 11.94   | 12.36   | 69700   | 52763   | 16937   | \n",
       "| Alabama | 1981    | 59.6    | 0.825   | 13.21   | 13.77   | 59600   | 49170   | 10430   | \n",
       "| Alabama | 1982    | 53.0    | 0.862   | 14.21   | 14.64   | 53000   | 45686   |  7314   | \n",
       "| Alabama | 1983    | 61.5    | 0.811   | 11.87   | 12.44   | 61500   | 49876   | 11624   | \n",
       "\n",
       "\n"
      ],
      "text/plain": [
       "  State   Year PP   LtoP_ratio Rate  APR   Purchase_Price Mtg_Amt Down_Pmt\n",
       "1 Alabama 1978 53.4 0.791       9.40  9.78 53400          42239   11161   \n",
       "2 Alabama 1979 60.7 0.770      10.53 10.89 60700          46739   13961   \n",
       "3 Alabama 1980 69.7 0.757      11.94 12.36 69700          52763   16937   \n",
       "4 Alabama 1981 59.6 0.825      13.21 13.77 59600          49170   10430   \n",
       "5 Alabama 1982 53.0 0.862      14.21 14.64 53000          45686    7314   \n",
       "6 Alabama 1983 61.5 0.811      11.87 12.44 61500          49876   11624   "
      ]
     },
     "metadata": {},
     "output_type": "display_data"
    }
   ],
   "source": [
    "df$Down_Pmt <- round((df$Purchase_Price - df$Mtg_Amt), 0)\n",
    "head(df)"
   ]
  },
  {
   "cell_type": "code",
   "execution_count": 200,
   "metadata": {},
   "outputs": [
    {
     "data": {
      "text/html": [
       "<table>\n",
       "<thead><tr><th scope=col>State</th><th scope=col>Year</th><th scope=col>PP</th><th scope=col>LtoP_ratio</th><th scope=col>Rate</th><th scope=col>APR</th><th scope=col>Purchase_Price</th><th scope=col>Mtg_Amt</th><th scope=col>Down_Pmt</th><th scope=col>DP_Percent</th></tr></thead>\n",
       "<tbody>\n",
       "\t<tr><td>Alabama</td><td>1978   </td><td>53.4   </td><td>0.791  </td><td> 9.40  </td><td> 9.78  </td><td>53400  </td><td>42239  </td><td>11161  </td><td>21     </td></tr>\n",
       "\t<tr><td>Alabama</td><td>1979   </td><td>60.7   </td><td>0.770  </td><td>10.53  </td><td>10.89  </td><td>60700  </td><td>46739  </td><td>13961  </td><td>23     </td></tr>\n",
       "\t<tr><td>Alabama</td><td>1980   </td><td>69.7   </td><td>0.757  </td><td>11.94  </td><td>12.36  </td><td>69700  </td><td>52763  </td><td>16937  </td><td>24     </td></tr>\n",
       "\t<tr><td>Alabama</td><td>1981   </td><td>59.6   </td><td>0.825  </td><td>13.21  </td><td>13.77  </td><td>59600  </td><td>49170  </td><td>10430  </td><td>18     </td></tr>\n",
       "\t<tr><td>Alabama</td><td>1982   </td><td>53.0   </td><td>0.862  </td><td>14.21  </td><td>14.64  </td><td>53000  </td><td>45686  </td><td> 7314  </td><td>14     </td></tr>\n",
       "\t<tr><td>Alabama</td><td>1983   </td><td>61.5   </td><td>0.811  </td><td>11.87  </td><td>12.44  </td><td>61500  </td><td>49876  </td><td>11624  </td><td>19     </td></tr>\n",
       "</tbody>\n",
       "</table>\n"
      ],
      "text/latex": [
       "\\begin{tabular}{r|llllllllll}\n",
       " State & Year & PP & LtoP\\_ratio & Rate & APR & Purchase\\_Price & Mtg\\_Amt & Down\\_Pmt & DP\\_Percent\\\\\n",
       "\\hline\n",
       "\t Alabama & 1978    & 53.4    & 0.791   &  9.40   &  9.78   & 53400   & 42239   & 11161   & 21     \\\\\n",
       "\t Alabama & 1979    & 60.7    & 0.770   & 10.53   & 10.89   & 60700   & 46739   & 13961   & 23     \\\\\n",
       "\t Alabama & 1980    & 69.7    & 0.757   & 11.94   & 12.36   & 69700   & 52763   & 16937   & 24     \\\\\n",
       "\t Alabama & 1981    & 59.6    & 0.825   & 13.21   & 13.77   & 59600   & 49170   & 10430   & 18     \\\\\n",
       "\t Alabama & 1982    & 53.0    & 0.862   & 14.21   & 14.64   & 53000   & 45686   &  7314   & 14     \\\\\n",
       "\t Alabama & 1983    & 61.5    & 0.811   & 11.87   & 12.44   & 61500   & 49876   & 11624   & 19     \\\\\n",
       "\\end{tabular}\n"
      ],
      "text/markdown": [
       "\n",
       "State | Year | PP | LtoP_ratio | Rate | APR | Purchase_Price | Mtg_Amt | Down_Pmt | DP_Percent | \n",
       "|---|---|---|---|---|---|\n",
       "| Alabama | 1978    | 53.4    | 0.791   |  9.40   |  9.78   | 53400   | 42239   | 11161   | 21      | \n",
       "| Alabama | 1979    | 60.7    | 0.770   | 10.53   | 10.89   | 60700   | 46739   | 13961   | 23      | \n",
       "| Alabama | 1980    | 69.7    | 0.757   | 11.94   | 12.36   | 69700   | 52763   | 16937   | 24      | \n",
       "| Alabama | 1981    | 59.6    | 0.825   | 13.21   | 13.77   | 59600   | 49170   | 10430   | 18      | \n",
       "| Alabama | 1982    | 53.0    | 0.862   | 14.21   | 14.64   | 53000   | 45686   |  7314   | 14      | \n",
       "| Alabama | 1983    | 61.5    | 0.811   | 11.87   | 12.44   | 61500   | 49876   | 11624   | 19      | \n",
       "\n",
       "\n"
      ],
      "text/plain": [
       "  State   Year PP   LtoP_ratio Rate  APR   Purchase_Price Mtg_Amt Down_Pmt\n",
       "1 Alabama 1978 53.4 0.791       9.40  9.78 53400          42239   11161   \n",
       "2 Alabama 1979 60.7 0.770      10.53 10.89 60700          46739   13961   \n",
       "3 Alabama 1980 69.7 0.757      11.94 12.36 69700          52763   16937   \n",
       "4 Alabama 1981 59.6 0.825      13.21 13.77 59600          49170   10430   \n",
       "5 Alabama 1982 53.0 0.862      14.21 14.64 53000          45686    7314   \n",
       "6 Alabama 1983 61.5 0.811      11.87 12.44 61500          49876   11624   \n",
       "  DP_Percent\n",
       "1 21        \n",
       "2 23        \n",
       "3 24        \n",
       "4 18        \n",
       "5 14        \n",
       "6 19        "
      ]
     },
     "metadata": {},
     "output_type": "display_data"
    }
   ],
   "source": [
    "df$DP_Percent <- round(((df$Down_Pmt / df$Purchase_Price) * 100), 0)\n",
    "head(df)"
   ]
  },
  {
   "cell_type": "code",
   "execution_count": 201,
   "metadata": {},
   "outputs": [
    {
     "data": {
      "text/html": [
       "<ol class=list-inline>\n",
       "\t<li>'Alabama'</li>\n",
       "\t<li>'Alaska'</li>\n",
       "\t<li>'Arizona'</li>\n",
       "\t<li>'Arkansas'</li>\n",
       "\t<li>'California'</li>\n",
       "\t<li>'Colorado'</li>\n",
       "\t<li>'Connecticut'</li>\n",
       "\t<li>'Delaware'</li>\n",
       "\t<li>'District of Columbia'</li>\n",
       "\t<li>'Florida'</li>\n",
       "\t<li>'Georgia'</li>\n",
       "\t<li>'Hawaii'</li>\n",
       "\t<li>'Idaho'</li>\n",
       "\t<li>'Illinois'</li>\n",
       "\t<li>'Indiana'</li>\n",
       "\t<li>'Iowa'</li>\n",
       "\t<li>'Kansas'</li>\n",
       "\t<li>'Kentucky'</li>\n",
       "\t<li>'Louisiana'</li>\n",
       "\t<li>'Maine'</li>\n",
       "\t<li>'Maryland'</li>\n",
       "\t<li>'Massachusetts'</li>\n",
       "\t<li>'Michigan'</li>\n",
       "\t<li>'Minnesota'</li>\n",
       "\t<li>'Mississippi'</li>\n",
       "\t<li>'Missouri'</li>\n",
       "\t<li>'Montana'</li>\n",
       "\t<li>'Nebraska'</li>\n",
       "\t<li>'Nevada'</li>\n",
       "\t<li>'New Hampshire'</li>\n",
       "\t<li>'New Jersey'</li>\n",
       "\t<li>'New Mexico'</li>\n",
       "\t<li>'New York'</li>\n",
       "\t<li>'North Carolina'</li>\n",
       "\t<li>'North Dakota'</li>\n",
       "\t<li>'Ohio'</li>\n",
       "\t<li>'Okahoma'</li>\n",
       "\t<li>'Oklahoma'</li>\n",
       "\t<li>'Oregon'</li>\n",
       "\t<li>'Pennsylvania'</li>\n",
       "\t<li>'Rhode Island'</li>\n",
       "\t<li>'South Carolina'</li>\n",
       "\t<li>'South Dakota'</li>\n",
       "\t<li>'Tennessee'</li>\n",
       "\t<li>'Texas'</li>\n",
       "\t<li>'Utah'</li>\n",
       "\t<li>'Vermont'</li>\n",
       "\t<li>'Virginia'</li>\n",
       "\t<li>'Washington'</li>\n",
       "\t<li>'West Virginia'</li>\n",
       "\t<li>'Wisconsin'</li>\n",
       "\t<li>'Wyoming'</li>\n",
       "</ol>\n"
      ],
      "text/latex": [
       "\\begin{enumerate*}\n",
       "\\item 'Alabama'\n",
       "\\item 'Alaska'\n",
       "\\item 'Arizona'\n",
       "\\item 'Arkansas'\n",
       "\\item 'California'\n",
       "\\item 'Colorado'\n",
       "\\item 'Connecticut'\n",
       "\\item 'Delaware'\n",
       "\\item 'District of Columbia'\n",
       "\\item 'Florida'\n",
       "\\item 'Georgia'\n",
       "\\item 'Hawaii'\n",
       "\\item 'Idaho'\n",
       "\\item 'Illinois'\n",
       "\\item 'Indiana'\n",
       "\\item 'Iowa'\n",
       "\\item 'Kansas'\n",
       "\\item 'Kentucky'\n",
       "\\item 'Louisiana'\n",
       "\\item 'Maine'\n",
       "\\item 'Maryland'\n",
       "\\item 'Massachusetts'\n",
       "\\item 'Michigan'\n",
       "\\item 'Minnesota'\n",
       "\\item 'Mississippi'\n",
       "\\item 'Missouri'\n",
       "\\item 'Montana'\n",
       "\\item 'Nebraska'\n",
       "\\item 'Nevada'\n",
       "\\item 'New Hampshire'\n",
       "\\item 'New Jersey'\n",
       "\\item 'New Mexico'\n",
       "\\item 'New York'\n",
       "\\item 'North Carolina'\n",
       "\\item 'North Dakota'\n",
       "\\item 'Ohio'\n",
       "\\item 'Okahoma'\n",
       "\\item 'Oklahoma'\n",
       "\\item 'Oregon'\n",
       "\\item 'Pennsylvania'\n",
       "\\item 'Rhode Island'\n",
       "\\item 'South Carolina'\n",
       "\\item 'South Dakota'\n",
       "\\item 'Tennessee'\n",
       "\\item 'Texas'\n",
       "\\item 'Utah'\n",
       "\\item 'Vermont'\n",
       "\\item 'Virginia'\n",
       "\\item 'Washington'\n",
       "\\item 'West Virginia'\n",
       "\\item 'Wisconsin'\n",
       "\\item 'Wyoming'\n",
       "\\end{enumerate*}\n"
      ],
      "text/markdown": [
       "1. 'Alabama'\n",
       "2. 'Alaska'\n",
       "3. 'Arizona'\n",
       "4. 'Arkansas'\n",
       "5. 'California'\n",
       "6. 'Colorado'\n",
       "7. 'Connecticut'\n",
       "8. 'Delaware'\n",
       "9. 'District of Columbia'\n",
       "10. 'Florida'\n",
       "11. 'Georgia'\n",
       "12. 'Hawaii'\n",
       "13. 'Idaho'\n",
       "14. 'Illinois'\n",
       "15. 'Indiana'\n",
       "16. 'Iowa'\n",
       "17. 'Kansas'\n",
       "18. 'Kentucky'\n",
       "19. 'Louisiana'\n",
       "20. 'Maine'\n",
       "21. 'Maryland'\n",
       "22. 'Massachusetts'\n",
       "23. 'Michigan'\n",
       "24. 'Minnesota'\n",
       "25. 'Mississippi'\n",
       "26. 'Missouri'\n",
       "27. 'Montana'\n",
       "28. 'Nebraska'\n",
       "29. 'Nevada'\n",
       "30. 'New Hampshire'\n",
       "31. 'New Jersey'\n",
       "32. 'New Mexico'\n",
       "33. 'New York'\n",
       "34. 'North Carolina'\n",
       "35. 'North Dakota'\n",
       "36. 'Ohio'\n",
       "37. 'Okahoma'\n",
       "38. 'Oklahoma'\n",
       "39. 'Oregon'\n",
       "40. 'Pennsylvania'\n",
       "41. 'Rhode Island'\n",
       "42. 'South Carolina'\n",
       "43. 'South Dakota'\n",
       "44. 'Tennessee'\n",
       "45. 'Texas'\n",
       "46. 'Utah'\n",
       "47. 'Vermont'\n",
       "48. 'Virginia'\n",
       "49. 'Washington'\n",
       "50. 'West Virginia'\n",
       "51. 'Wisconsin'\n",
       "52. 'Wyoming'\n",
       "\n",
       "\n"
      ],
      "text/plain": [
       " [1] \"Alabama\"              \"Alaska\"               \"Arizona\"             \n",
       " [4] \"Arkansas\"             \"California\"           \"Colorado\"            \n",
       " [7] \"Connecticut\"          \"Delaware\"             \"District of Columbia\"\n",
       "[10] \"Florida\"              \"Georgia\"              \"Hawaii\"              \n",
       "[13] \"Idaho\"                \"Illinois\"             \"Indiana\"             \n",
       "[16] \"Iowa\"                 \"Kansas\"               \"Kentucky\"            \n",
       "[19] \"Louisiana\"            \"Maine\"                \"Maryland\"            \n",
       "[22] \"Massachusetts\"        \"Michigan\"             \"Minnesota\"           \n",
       "[25] \"Mississippi\"          \"Missouri\"             \"Montana\"             \n",
       "[28] \"Nebraska\"             \"Nevada\"               \"New Hampshire\"       \n",
       "[31] \"New Jersey\"           \"New Mexico\"           \"New York\"            \n",
       "[34] \"North Carolina\"       \"North Dakota\"         \"Ohio\"                \n",
       "[37] \"Okahoma\"              \"Oklahoma\"             \"Oregon\"              \n",
       "[40] \"Pennsylvania\"         \"Rhode Island\"         \"South Carolina\"      \n",
       "[43] \"South Dakota\"         \"Tennessee\"            \"Texas\"               \n",
       "[46] \"Utah\"                 \"Vermont\"              \"Virginia\"            \n",
       "[49] \"Washington\"           \"West Virginia\"        \"Wisconsin\"           \n",
       "[52] \"Wyoming\"             "
      ]
     },
     "metadata": {},
     "output_type": "display_data"
    }
   ],
   "source": [
    "unique(df$State)"
   ]
  },
  {
   "cell_type": "code",
   "execution_count": 202,
   "metadata": {
    "collapsed": true
   },
   "outputs": [],
   "source": [
    "US <- df %>%\n",
    "    group_by(Year) %>%\n",
    "    summarize(US_Med_PP = round(median(Purchase_Price),0), US_Med_Mtg = round(median(Mtg_Amt),0), \n",
    "              US_Med_DP = round(median(Down_Pmt),0), US_Med_DP_Per = round(median(DP_Percent),0),\n",
    "              US_Med_Rate = round(median(Rate),2), US_Med_APR = round(median(APR),2))"
   ]
  },
  {
   "cell_type": "code",
   "execution_count": 203,
   "metadata": {},
   "outputs": [
    {
     "data": {
      "text/html": [
       "<table>\n",
       "<thead><tr><th scope=col>Year</th><th scope=col>T_Med_PP</th><th scope=col>T_Med_Mtg</th><th scope=col>T_Med_DP</th><th scope=col>T_Med_DP_Per</th><th scope=col>T_Med_Rate</th><th scope=col>T_Med_APR</th></tr></thead>\n",
       "<tbody>\n",
       "\t<tr><td>1978 </td><td>51900</td><td>38869</td><td>12927</td><td>25   </td><td> 9.40</td><td> 9.62</td></tr>\n",
       "\t<tr><td>1979 </td><td>58900</td><td>42689</td><td>15700</td><td>26   </td><td>10.60</td><td>10.86</td></tr>\n",
       "\t<tr><td>1980 </td><td>66800</td><td>48174</td><td>16678</td><td>27   </td><td>12.36</td><td>12.72</td></tr>\n",
       "\t<tr><td>1981 </td><td>71800</td><td>51337</td><td>17745</td><td>27   </td><td>14.32</td><td>14.75</td></tr>\n",
       "\t<tr><td>1982 </td><td>72600</td><td>52072</td><td>18652</td><td>26   </td><td>14.49</td><td>15.04</td></tr>\n",
       "\t<tr><td>1983 </td><td>74600</td><td>55418</td><td>17904</td><td>24   </td><td>12.33</td><td>12.86</td></tr>\n",
       "</tbody>\n",
       "</table>\n"
      ],
      "text/latex": [
       "\\begin{tabular}{r|lllllll}\n",
       " Year & T\\_Med\\_PP & T\\_Med\\_Mtg & T\\_Med\\_DP & T\\_Med\\_DP\\_Per & T\\_Med\\_Rate & T\\_Med\\_APR\\\\\n",
       "\\hline\n",
       "\t 1978  & 51900 & 38869 & 12927 & 25    &  9.40 &  9.62\\\\\n",
       "\t 1979  & 58900 & 42689 & 15700 & 26    & 10.60 & 10.86\\\\\n",
       "\t 1980  & 66800 & 48174 & 16678 & 27    & 12.36 & 12.72\\\\\n",
       "\t 1981  & 71800 & 51337 & 17745 & 27    & 14.32 & 14.75\\\\\n",
       "\t 1982  & 72600 & 52072 & 18652 & 26    & 14.49 & 15.04\\\\\n",
       "\t 1983  & 74600 & 55418 & 17904 & 24    & 12.33 & 12.86\\\\\n",
       "\\end{tabular}\n"
      ],
      "text/markdown": [
       "\n",
       "Year | T_Med_PP | T_Med_Mtg | T_Med_DP | T_Med_DP_Per | T_Med_Rate | T_Med_APR | \n",
       "|---|---|---|---|---|---|\n",
       "| 1978  | 51900 | 38869 | 12927 | 25    |  9.40 |  9.62 | \n",
       "| 1979  | 58900 | 42689 | 15700 | 26    | 10.60 | 10.86 | \n",
       "| 1980  | 66800 | 48174 | 16678 | 27    | 12.36 | 12.72 | \n",
       "| 1981  | 71800 | 51337 | 17745 | 27    | 14.32 | 14.75 | \n",
       "| 1982  | 72600 | 52072 | 18652 | 26    | 14.49 | 15.04 | \n",
       "| 1983  | 74600 | 55418 | 17904 | 24    | 12.33 | 12.86 | \n",
       "\n",
       "\n"
      ],
      "text/plain": [
       "  Year T_Med_PP T_Med_Mtg T_Med_DP T_Med_DP_Per T_Med_Rate T_Med_APR\n",
       "1 1978 51900    38869     12927    25            9.40       9.62    \n",
       "2 1979 58900    42689     15700    26           10.60      10.86    \n",
       "3 1980 66800    48174     16678    27           12.36      12.72    \n",
       "4 1981 71800    51337     17745    27           14.32      14.75    \n",
       "5 1982 72600    52072     18652    26           14.49      15.04    \n",
       "6 1983 74600    55418     17904    24           12.33      12.86    "
      ]
     },
     "metadata": {},
     "output_type": "display_data"
    }
   ],
   "source": [
    "head(T)"
   ]
  },
  {
   "cell_type": "code",
   "execution_count": 204,
   "metadata": {
    "collapsed": true
   },
   "outputs": [],
   "source": [
    "NE <- subset(df, State=='Maine' | State=='Vermont' | State=='New Hampshire'| \n",
    "             State=='Massachusetts' | State=='Rhode Island' | State=='Conneticut' | State=='New York' | \n",
    "             State=='New Jersey' | State=='Pennsylvania')"
   ]
  },
  {
   "cell_type": "code",
   "execution_count": 205,
   "metadata": {},
   "outputs": [
    {
     "data": {
      "text/html": [
       "<ol class=list-inline>\n",
       "\t<li>'Maine'</li>\n",
       "\t<li>'Massachusetts'</li>\n",
       "\t<li>'New Hampshire'</li>\n",
       "\t<li>'New Jersey'</li>\n",
       "\t<li>'New York'</li>\n",
       "\t<li>'Pennsylvania'</li>\n",
       "\t<li>'Rhode Island'</li>\n",
       "\t<li>'Vermont'</li>\n",
       "</ol>\n"
      ],
      "text/latex": [
       "\\begin{enumerate*}\n",
       "\\item 'Maine'\n",
       "\\item 'Massachusetts'\n",
       "\\item 'New Hampshire'\n",
       "\\item 'New Jersey'\n",
       "\\item 'New York'\n",
       "\\item 'Pennsylvania'\n",
       "\\item 'Rhode Island'\n",
       "\\item 'Vermont'\n",
       "\\end{enumerate*}\n"
      ],
      "text/markdown": [
       "1. 'Maine'\n",
       "2. 'Massachusetts'\n",
       "3. 'New Hampshire'\n",
       "4. 'New Jersey'\n",
       "5. 'New York'\n",
       "6. 'Pennsylvania'\n",
       "7. 'Rhode Island'\n",
       "8. 'Vermont'\n",
       "\n",
       "\n"
      ],
      "text/plain": [
       "[1] \"Maine\"         \"Massachusetts\" \"New Hampshire\" \"New Jersey\"   \n",
       "[5] \"New York\"      \"Pennsylvania\"  \"Rhode Island\"  \"Vermont\"      "
      ]
     },
     "metadata": {},
     "output_type": "display_data"
    },
    {
     "data": {
      "text/html": [
       "<table>\n",
       "<thead><tr><th scope=col>State</th><th scope=col>Year</th><th scope=col>PP</th><th scope=col>LtoP_ratio</th><th scope=col>Rate</th><th scope=col>APR</th><th scope=col>Purchase_Price</th><th scope=col>Mtg_Amt</th><th scope=col>Down_Pmt</th><th scope=col>DP_Percent</th></tr></thead>\n",
       "<tbody>\n",
       "\t<tr><td>Maine</td><td>1978 </td><td>44.9 </td><td>0.748</td><td> 9.33</td><td> 9.50</td><td>44900</td><td>33585</td><td>11315</td><td>25   </td></tr>\n",
       "\t<tr><td>Maine</td><td>1979 </td><td>51.2 </td><td>0.746</td><td>10.81</td><td>11.02</td><td>51200</td><td>38195</td><td>13005</td><td>25   </td></tr>\n",
       "\t<tr><td>Maine</td><td>1980 </td><td>51.8 </td><td>0.738</td><td>12.39</td><td>12.80</td><td>51800</td><td>38228</td><td>13572</td><td>26   </td></tr>\n",
       "\t<tr><td>Maine</td><td>1981 </td><td>53.1 </td><td>0.728</td><td>14.80</td><td>15.25</td><td>53100</td><td>38657</td><td>14443</td><td>27   </td></tr>\n",
       "\t<tr><td>Maine</td><td>1982 </td><td>64.1 </td><td>0.748</td><td>15.17</td><td>15.77</td><td>64100</td><td>47947</td><td>16153</td><td>25   </td></tr>\n",
       "\t<tr><td>Maine</td><td>1983 </td><td>63.9 </td><td>0.732</td><td>12.17</td><td>12.74</td><td>63900</td><td>46775</td><td>17125</td><td>27   </td></tr>\n",
       "</tbody>\n",
       "</table>\n"
      ],
      "text/latex": [
       "\\begin{tabular}{r|llllllllll}\n",
       " State & Year & PP & LtoP\\_ratio & Rate & APR & Purchase\\_Price & Mtg\\_Amt & Down\\_Pmt & DP\\_Percent\\\\\n",
       "\\hline\n",
       "\t Maine & 1978  & 44.9  & 0.748 &  9.33 &  9.50 & 44900 & 33585 & 11315 & 25   \\\\\n",
       "\t Maine & 1979  & 51.2  & 0.746 & 10.81 & 11.02 & 51200 & 38195 & 13005 & 25   \\\\\n",
       "\t Maine & 1980  & 51.8  & 0.738 & 12.39 & 12.80 & 51800 & 38228 & 13572 & 26   \\\\\n",
       "\t Maine & 1981  & 53.1  & 0.728 & 14.80 & 15.25 & 53100 & 38657 & 14443 & 27   \\\\\n",
       "\t Maine & 1982  & 64.1  & 0.748 & 15.17 & 15.77 & 64100 & 47947 & 16153 & 25   \\\\\n",
       "\t Maine & 1983  & 63.9  & 0.732 & 12.17 & 12.74 & 63900 & 46775 & 17125 & 27   \\\\\n",
       "\\end{tabular}\n"
      ],
      "text/markdown": [
       "\n",
       "State | Year | PP | LtoP_ratio | Rate | APR | Purchase_Price | Mtg_Amt | Down_Pmt | DP_Percent | \n",
       "|---|---|---|---|---|---|\n",
       "| Maine | 1978  | 44.9  | 0.748 |  9.33 |  9.50 | 44900 | 33585 | 11315 | 25    | \n",
       "| Maine | 1979  | 51.2  | 0.746 | 10.81 | 11.02 | 51200 | 38195 | 13005 | 25    | \n",
       "| Maine | 1980  | 51.8  | 0.738 | 12.39 | 12.80 | 51800 | 38228 | 13572 | 26    | \n",
       "| Maine | 1981  | 53.1  | 0.728 | 14.80 | 15.25 | 53100 | 38657 | 14443 | 27    | \n",
       "| Maine | 1982  | 64.1  | 0.748 | 15.17 | 15.77 | 64100 | 47947 | 16153 | 25    | \n",
       "| Maine | 1983  | 63.9  | 0.732 | 12.17 | 12.74 | 63900 | 46775 | 17125 | 27    | \n",
       "\n",
       "\n"
      ],
      "text/plain": [
       "  State Year PP   LtoP_ratio Rate  APR   Purchase_Price Mtg_Amt Down_Pmt\n",
       "1 Maine 1978 44.9 0.748       9.33  9.50 44900          33585   11315   \n",
       "2 Maine 1979 51.2 0.746      10.81 11.02 51200          38195   13005   \n",
       "3 Maine 1980 51.8 0.738      12.39 12.80 51800          38228   13572   \n",
       "4 Maine 1981 53.1 0.728      14.80 15.25 53100          38657   14443   \n",
       "5 Maine 1982 64.1 0.748      15.17 15.77 64100          47947   16153   \n",
       "6 Maine 1983 63.9 0.732      12.17 12.74 63900          46775   17125   \n",
       "  DP_Percent\n",
       "1 25        \n",
       "2 25        \n",
       "3 26        \n",
       "4 27        \n",
       "5 25        \n",
       "6 27        "
      ]
     },
     "metadata": {},
     "output_type": "display_data"
    }
   ],
   "source": [
    "unique(NE$State)\n",
    "head(NE)"
   ]
  },
  {
   "cell_type": "code",
   "execution_count": 206,
   "metadata": {
    "collapsed": true
   },
   "outputs": [],
   "source": [
    "NE <- NE %>%\n",
    "    group_by(Year) %>%\n",
    "    summarize(NE_Med_PP = round(median(Purchase_Price),0), NE_Med_Mtg = round(median(Mtg_Amt),0), \n",
    "              NE_Med_DP = round(median(Down_Pmt),0), NE_Med_DP_Per = round(median(DP_Percent),0),\n",
    "              NE_Med_Rate = round(median(Rate),2), NE_Med_APR = round(median(APR),2))"
   ]
  },
  {
   "cell_type": "code",
   "execution_count": 207,
   "metadata": {},
   "outputs": [
    {
     "data": {
      "text/html": [
       "<table>\n",
       "<thead><tr><th scope=col>Year</th><th scope=col>NE_Med_PP</th><th scope=col>NE_Med_Mtg</th><th scope=col>NE_Med_DP</th><th scope=col>NE_Med_DP_Per</th><th scope=col>NE_Med_Rate</th><th scope=col>NE_Med_APR</th></tr></thead>\n",
       "<tbody>\n",
       "\t<tr><td>1978 </td><td>51000</td><td>34911</td><td>13920</td><td>28   </td><td> 9.05</td><td> 9.16</td></tr>\n",
       "\t<tr><td>1979 </td><td>55400</td><td>39646</td><td>15340</td><td>28   </td><td>10.27</td><td>10.38</td></tr>\n",
       "\t<tr><td>1980 </td><td>59850</td><td>42320</td><td>16811</td><td>29   </td><td>12.38</td><td>12.69</td></tr>\n",
       "\t<tr><td>1981 </td><td>59200</td><td>43483</td><td>16820</td><td>28   </td><td>14.87</td><td>15.42</td></tr>\n",
       "\t<tr><td>1982 </td><td>68500</td><td>48940</td><td>20640</td><td>31   </td><td>15.34</td><td>15.99</td></tr>\n",
       "\t<tr><td>1983 </td><td>70050</td><td>50821</td><td>20678</td><td>29   </td><td>12.54</td><td>13.06</td></tr>\n",
       "</tbody>\n",
       "</table>\n"
      ],
      "text/latex": [
       "\\begin{tabular}{r|lllllll}\n",
       " Year & NE\\_Med\\_PP & NE\\_Med\\_Mtg & NE\\_Med\\_DP & NE\\_Med\\_DP\\_Per & NE\\_Med\\_Rate & NE\\_Med\\_APR\\\\\n",
       "\\hline\n",
       "\t 1978  & 51000 & 34911 & 13920 & 28    &  9.05 &  9.16\\\\\n",
       "\t 1979  & 55400 & 39646 & 15340 & 28    & 10.27 & 10.38\\\\\n",
       "\t 1980  & 59850 & 42320 & 16811 & 29    & 12.38 & 12.69\\\\\n",
       "\t 1981  & 59200 & 43483 & 16820 & 28    & 14.87 & 15.42\\\\\n",
       "\t 1982  & 68500 & 48940 & 20640 & 31    & 15.34 & 15.99\\\\\n",
       "\t 1983  & 70050 & 50821 & 20678 & 29    & 12.54 & 13.06\\\\\n",
       "\\end{tabular}\n"
      ],
      "text/markdown": [
       "\n",
       "Year | NE_Med_PP | NE_Med_Mtg | NE_Med_DP | NE_Med_DP_Per | NE_Med_Rate | NE_Med_APR | \n",
       "|---|---|---|---|---|---|\n",
       "| 1978  | 51000 | 34911 | 13920 | 28    |  9.05 |  9.16 | \n",
       "| 1979  | 55400 | 39646 | 15340 | 28    | 10.27 | 10.38 | \n",
       "| 1980  | 59850 | 42320 | 16811 | 29    | 12.38 | 12.69 | \n",
       "| 1981  | 59200 | 43483 | 16820 | 28    | 14.87 | 15.42 | \n",
       "| 1982  | 68500 | 48940 | 20640 | 31    | 15.34 | 15.99 | \n",
       "| 1983  | 70050 | 50821 | 20678 | 29    | 12.54 | 13.06 | \n",
       "\n",
       "\n"
      ],
      "text/plain": [
       "  Year NE_Med_PP NE_Med_Mtg NE_Med_DP NE_Med_DP_Per NE_Med_Rate NE_Med_APR\n",
       "1 1978 51000     34911      13920     28             9.05        9.16     \n",
       "2 1979 55400     39646      15340     28            10.27       10.38     \n",
       "3 1980 59850     42320      16811     29            12.38       12.69     \n",
       "4 1981 59200     43483      16820     28            14.87       15.42     \n",
       "5 1982 68500     48940      20640     31            15.34       15.99     \n",
       "6 1983 70050     50821      20678     29            12.54       13.06     "
      ]
     },
     "metadata": {},
     "output_type": "display_data"
    }
   ],
   "source": [
    "head(NE)"
   ]
  },
  {
   "cell_type": "code",
   "execution_count": 208,
   "metadata": {
    "collapsed": true
   },
   "outputs": [],
   "source": [
    "\n",
    "S <- subset(df, State=='Delaware' | State=='Maryland' | State=='District of Columbia'| \n",
    "            State=='West Virginia' | State=='Virginia' | State=='Kentucky' | State=='North Carolina' | \n",
    "            State=='Tennessee' | State=='Arkansas' | State=='Oklahoma' | State=='South Carolina' | \n",
    "            State=='Georgia' | State=='Alabama' | State=='Mississippi' | State=='Louisiana' | State=='Texas' | \n",
    "            State=='Florida')"
   ]
  },
  {
   "cell_type": "code",
   "execution_count": 209,
   "metadata": {
    "collapsed": true
   },
   "outputs": [],
   "source": [
    "S <- S %>%\n",
    "    group_by(Year) %>%\n",
    "    summarize(S_Med_PP = round(median(Purchase_Price),0), S_Med_Mtg = round(median(Mtg_Amt),0), \n",
    "              S_Med_DP = round(median(Down_Pmt),0), S_Med_DP_Per = round(median(DP_Percent),0),\n",
    "              S_Med_Rate = round(median(Rate),2), S_Med_APR = round(median(APR),2))"
   ]
  },
  {
   "cell_type": "code",
   "execution_count": 210,
   "metadata": {},
   "outputs": [
    {
     "data": {
      "text/html": [
       "<table>\n",
       "<thead><tr><th scope=col>Year</th><th scope=col>S_Med_PP</th><th scope=col>S_Med_Mtg</th><th scope=col>S_Med_DP</th><th scope=col>S_Med_DP_Per</th><th scope=col>S_Med_Rate</th><th scope=col>S_Med_APR</th></tr></thead>\n",
       "<tbody>\n",
       "\t<tr><td>1978 </td><td>50800</td><td>37998</td><td>11352</td><td>23   </td><td> 9.40</td><td> 9.66</td></tr>\n",
       "\t<tr><td>1979 </td><td>55800</td><td>42689</td><td>14000</td><td>24   </td><td>10.54</td><td>10.84</td></tr>\n",
       "\t<tr><td>1980 </td><td>66800</td><td>49352</td><td>16937</td><td>26   </td><td>12.34</td><td>12.72</td></tr>\n",
       "\t<tr><td>1981 </td><td>67600</td><td>51241</td><td>17660</td><td>26   </td><td>14.34</td><td>14.88</td></tr>\n",
       "\t<tr><td>1982 </td><td>69300</td><td>52945</td><td>17030</td><td>24   </td><td>14.49</td><td>15.29</td></tr>\n",
       "\t<tr><td>1983 </td><td>74600</td><td>56696</td><td>17346</td><td>22   </td><td>12.48</td><td>12.95</td></tr>\n",
       "</tbody>\n",
       "</table>\n"
      ],
      "text/latex": [
       "\\begin{tabular}{r|lllllll}\n",
       " Year & S\\_Med\\_PP & S\\_Med\\_Mtg & S\\_Med\\_DP & S\\_Med\\_DP\\_Per & S\\_Med\\_Rate & S\\_Med\\_APR\\\\\n",
       "\\hline\n",
       "\t 1978  & 50800 & 37998 & 11352 & 23    &  9.40 &  9.66\\\\\n",
       "\t 1979  & 55800 & 42689 & 14000 & 24    & 10.54 & 10.84\\\\\n",
       "\t 1980  & 66800 & 49352 & 16937 & 26    & 12.34 & 12.72\\\\\n",
       "\t 1981  & 67600 & 51241 & 17660 & 26    & 14.34 & 14.88\\\\\n",
       "\t 1982  & 69300 & 52945 & 17030 & 24    & 14.49 & 15.29\\\\\n",
       "\t 1983  & 74600 & 56696 & 17346 & 22    & 12.48 & 12.95\\\\\n",
       "\\end{tabular}\n"
      ],
      "text/markdown": [
       "\n",
       "Year | S_Med_PP | S_Med_Mtg | S_Med_DP | S_Med_DP_Per | S_Med_Rate | S_Med_APR | \n",
       "|---|---|---|---|---|---|\n",
       "| 1978  | 50800 | 37998 | 11352 | 23    |  9.40 |  9.66 | \n",
       "| 1979  | 55800 | 42689 | 14000 | 24    | 10.54 | 10.84 | \n",
       "| 1980  | 66800 | 49352 | 16937 | 26    | 12.34 | 12.72 | \n",
       "| 1981  | 67600 | 51241 | 17660 | 26    | 14.34 | 14.88 | \n",
       "| 1982  | 69300 | 52945 | 17030 | 24    | 14.49 | 15.29 | \n",
       "| 1983  | 74600 | 56696 | 17346 | 22    | 12.48 | 12.95 | \n",
       "\n",
       "\n"
      ],
      "text/plain": [
       "  Year S_Med_PP S_Med_Mtg S_Med_DP S_Med_DP_Per S_Med_Rate S_Med_APR\n",
       "1 1978 50800    37998     11352    23            9.40       9.66    \n",
       "2 1979 55800    42689     14000    24           10.54      10.84    \n",
       "3 1980 66800    49352     16937    26           12.34      12.72    \n",
       "4 1981 67600    51241     17660    26           14.34      14.88    \n",
       "5 1982 69300    52945     17030    24           14.49      15.29    \n",
       "6 1983 74600    56696     17346    22           12.48      12.95    "
      ]
     },
     "metadata": {},
     "output_type": "display_data"
    }
   ],
   "source": [
    "head(S)"
   ]
  },
  {
   "cell_type": "code",
   "execution_count": 211,
   "metadata": {
    "collapsed": true
   },
   "outputs": [],
   "source": [
    "MW <- subset(df, State=='Ohio' | State=='Indiana' | State=='Illinois'| \n",
    "             State=='Missouri' | State=='Kansas' | State=='Iowa' | State=='Nebraska' | \n",
    "             State=='Michigan' | State=='Wisconsin' | State=='Minnesota' | State=='South Dakota' | State=='North Dakota')"
   ]
  },
  {
   "cell_type": "code",
   "execution_count": 212,
   "metadata": {
    "collapsed": true
   },
   "outputs": [],
   "source": [
    "MW <- MW %>%\n",
    "    group_by(Year) %>%\n",
    "    summarize(MW_Med_PP = round(median(Purchase_Price),0), MW_Med_Mtg = round(median(Mtg_Amt),0), \n",
    "              MW_Med_DP = round(median(Down_Pmt),0), MW_Med_DP_Per = round(median(DP_Percent),0),\n",
    "              MW_Med_Rate = round(median(Rate),2), MW_Med_APR = round(median(APR),2))"
   ]
  },
  {
   "cell_type": "code",
   "execution_count": 213,
   "metadata": {},
   "outputs": [
    {
     "data": {
      "text/html": [
       "<table>\n",
       "<thead><tr><th scope=col>Year</th><th scope=col>MW_Med_PP</th><th scope=col>MW_Med_Mtg</th><th scope=col>MW_Med_DP</th><th scope=col>MW_Med_DP_Per</th><th scope=col>MW_Med_Rate</th><th scope=col>MW_Med_APR</th></tr></thead>\n",
       "<tbody>\n",
       "\t<tr><td>1978 </td><td>50500</td><td>37000</td><td>13404</td><td>26   </td><td> 9.38</td><td> 9.56</td></tr>\n",
       "\t<tr><td>1979 </td><td>55550</td><td>41060</td><td>16184</td><td>28   </td><td>10.55</td><td>10.74</td></tr>\n",
       "\t<tr><td>1980 </td><td>57100</td><td>42354</td><td>15321</td><td>28   </td><td>12.44</td><td>12.83</td></tr>\n",
       "\t<tr><td>1981 </td><td>62900</td><td>46466</td><td>17593</td><td>28   </td><td>13.97</td><td>14.46</td></tr>\n",
       "\t<tr><td>1982 </td><td>62750</td><td>46718</td><td>17252</td><td>28   </td><td>14.24</td><td>14.60</td></tr>\n",
       "\t<tr><td>1983 </td><td>68100</td><td>49644</td><td>16371</td><td>24   </td><td>12.21</td><td>12.67</td></tr>\n",
       "</tbody>\n",
       "</table>\n"
      ],
      "text/latex": [
       "\\begin{tabular}{r|lllllll}\n",
       " Year & MW\\_Med\\_PP & MW\\_Med\\_Mtg & MW\\_Med\\_DP & MW\\_Med\\_DP\\_Per & MW\\_Med\\_Rate & MW\\_Med\\_APR\\\\\n",
       "\\hline\n",
       "\t 1978  & 50500 & 37000 & 13404 & 26    &  9.38 &  9.56\\\\\n",
       "\t 1979  & 55550 & 41060 & 16184 & 28    & 10.55 & 10.74\\\\\n",
       "\t 1980  & 57100 & 42354 & 15321 & 28    & 12.44 & 12.83\\\\\n",
       "\t 1981  & 62900 & 46466 & 17593 & 28    & 13.97 & 14.46\\\\\n",
       "\t 1982  & 62750 & 46718 & 17252 & 28    & 14.24 & 14.60\\\\\n",
       "\t 1983  & 68100 & 49644 & 16371 & 24    & 12.21 & 12.67\\\\\n",
       "\\end{tabular}\n"
      ],
      "text/markdown": [
       "\n",
       "Year | MW_Med_PP | MW_Med_Mtg | MW_Med_DP | MW_Med_DP_Per | MW_Med_Rate | MW_Med_APR | \n",
       "|---|---|---|---|---|---|\n",
       "| 1978  | 50500 | 37000 | 13404 | 26    |  9.38 |  9.56 | \n",
       "| 1979  | 55550 | 41060 | 16184 | 28    | 10.55 | 10.74 | \n",
       "| 1980  | 57100 | 42354 | 15321 | 28    | 12.44 | 12.83 | \n",
       "| 1981  | 62900 | 46466 | 17593 | 28    | 13.97 | 14.46 | \n",
       "| 1982  | 62750 | 46718 | 17252 | 28    | 14.24 | 14.60 | \n",
       "| 1983  | 68100 | 49644 | 16371 | 24    | 12.21 | 12.67 | \n",
       "\n",
       "\n"
      ],
      "text/plain": [
       "  Year MW_Med_PP MW_Med_Mtg MW_Med_DP MW_Med_DP_Per MW_Med_Rate MW_Med_APR\n",
       "1 1978 50500     37000      13404     26             9.38        9.56     \n",
       "2 1979 55550     41060      16184     28            10.55       10.74     \n",
       "3 1980 57100     42354      15321     28            12.44       12.83     \n",
       "4 1981 62900     46466      17593     28            13.97       14.46     \n",
       "5 1982 62750     46718      17252     28            14.24       14.60     \n",
       "6 1983 68100     49644      16371     24            12.21       12.67     "
      ]
     },
     "metadata": {},
     "output_type": "display_data"
    }
   ],
   "source": [
    "head(MW)"
   ]
  },
  {
   "cell_type": "code",
   "execution_count": 214,
   "metadata": {
    "collapsed": true
   },
   "outputs": [],
   "source": [
    "W <- subset(df, State=='Montana' | State=='Wyoming' | State=='Colorado'| \n",
    "             State=='New Mexico' | State=='Idaho' | State=='Utah' | State=='Arizona' | \n",
    "             State=='Washington' | State=='Oregon' | State=='Nevada' | State=='California' | State=='Alaska' | \n",
    "             State=='Hawaii')"
   ]
  },
  {
   "cell_type": "code",
   "execution_count": 215,
   "metadata": {
    "collapsed": true
   },
   "outputs": [],
   "source": [
    "W <- W %>%\n",
    "    group_by(Year) %>%\n",
    "    summarize(W_Med_PP = round(median(Purchase_Price),0), W_Med_Mtg = round(median(Mtg_Amt),0), \n",
    "              W_Med_DP = round(median(Down_Pmt),0), W_Med_DP_Per = round(median(DP_Percent),0),\n",
    "              W_Med_Rate = round(median(Rate),2), W_Med_APR = round(median(APR),2))"
   ]
  },
  {
   "cell_type": "code",
   "execution_count": 216,
   "metadata": {},
   "outputs": [
    {
     "data": {
      "text/html": [
       "<table>\n",
       "<thead><tr><th scope=col>Year</th><th scope=col>W_Med_PP</th><th scope=col>W_Med_Mtg</th><th scope=col>W_Med_DP</th><th scope=col>W_Med_DP_Per</th><th scope=col>W_Med_Rate</th><th scope=col>W_Med_APR</th></tr></thead>\n",
       "<tbody>\n",
       "\t<tr><td>1978 </td><td>57500</td><td>44579</td><td>13858</td><td>23   </td><td> 9.65</td><td> 9.90</td></tr>\n",
       "\t<tr><td>1979 </td><td>69000</td><td>51457</td><td>16393</td><td>24   </td><td>10.75</td><td>11.09</td></tr>\n",
       "\t<tr><td>1980 </td><td>78100</td><td>60137</td><td>19447</td><td>24   </td><td>12.26</td><td>12.65</td></tr>\n",
       "\t<tr><td>1981 </td><td>82100</td><td>63359</td><td>18726</td><td>24   </td><td>13.97</td><td>14.37</td></tr>\n",
       "\t<tr><td>1982 </td><td>88700</td><td>66882</td><td>21190</td><td>24   </td><td>14.55</td><td>15.04</td></tr>\n",
       "\t<tr><td>1983 </td><td>86400</td><td>66960</td><td>19564</td><td>22   </td><td>12.33</td><td>12.83</td></tr>\n",
       "</tbody>\n",
       "</table>\n"
      ],
      "text/latex": [
       "\\begin{tabular}{r|lllllll}\n",
       " Year & W\\_Med\\_PP & W\\_Med\\_Mtg & W\\_Med\\_DP & W\\_Med\\_DP\\_Per & W\\_Med\\_Rate & W\\_Med\\_APR\\\\\n",
       "\\hline\n",
       "\t 1978  & 57500 & 44579 & 13858 & 23    &  9.65 &  9.90\\\\\n",
       "\t 1979  & 69000 & 51457 & 16393 & 24    & 10.75 & 11.09\\\\\n",
       "\t 1980  & 78100 & 60137 & 19447 & 24    & 12.26 & 12.65\\\\\n",
       "\t 1981  & 82100 & 63359 & 18726 & 24    & 13.97 & 14.37\\\\\n",
       "\t 1982  & 88700 & 66882 & 21190 & 24    & 14.55 & 15.04\\\\\n",
       "\t 1983  & 86400 & 66960 & 19564 & 22    & 12.33 & 12.83\\\\\n",
       "\\end{tabular}\n"
      ],
      "text/markdown": [
       "\n",
       "Year | W_Med_PP | W_Med_Mtg | W_Med_DP | W_Med_DP_Per | W_Med_Rate | W_Med_APR | \n",
       "|---|---|---|---|---|---|\n",
       "| 1978  | 57500 | 44579 | 13858 | 23    |  9.65 |  9.90 | \n",
       "| 1979  | 69000 | 51457 | 16393 | 24    | 10.75 | 11.09 | \n",
       "| 1980  | 78100 | 60137 | 19447 | 24    | 12.26 | 12.65 | \n",
       "| 1981  | 82100 | 63359 | 18726 | 24    | 13.97 | 14.37 | \n",
       "| 1982  | 88700 | 66882 | 21190 | 24    | 14.55 | 15.04 | \n",
       "| 1983  | 86400 | 66960 | 19564 | 22    | 12.33 | 12.83 | \n",
       "\n",
       "\n"
      ],
      "text/plain": [
       "  Year W_Med_PP W_Med_Mtg W_Med_DP W_Med_DP_Per W_Med_Rate W_Med_APR\n",
       "1 1978 57500    44579     13858    23            9.65       9.90    \n",
       "2 1979 69000    51457     16393    24           10.75      11.09    \n",
       "3 1980 78100    60137     19447    24           12.26      12.65    \n",
       "4 1981 82100    63359     18726    24           13.97      14.37    \n",
       "5 1982 88700    66882     21190    24           14.55      15.04    \n",
       "6 1983 86400    66960     19564    22           12.33      12.83    "
      ]
     },
     "metadata": {},
     "output_type": "display_data"
    }
   ],
   "source": [
    "head(W)"
   ]
  },
  {
   "cell_type": "code",
   "execution_count": 217,
   "metadata": {},
   "outputs": [
    {
     "data": {
      "text/html": [
       "<table>\n",
       "<thead><tr><th scope=col>Year</th><th scope=col>US_Med_PP</th><th scope=col>US_Med_Mtg</th><th scope=col>US_Med_DP</th><th scope=col>US_Med_DP_Per</th><th scope=col>US_Med_Rate</th><th scope=col>US_Med_APR</th><th scope=col>NE_Med_PP</th><th scope=col>NE_Med_Mtg</th><th scope=col>NE_Med_DP</th><th scope=col>NE_Med_DP_Per</th><th scope=col>NE_Med_Rate</th><th scope=col>NE_Med_APR</th></tr></thead>\n",
       "<tbody>\n",
       "\t<tr><td>1978 </td><td>51900</td><td>38869</td><td>12927</td><td>25   </td><td> 9.40</td><td> 9.62</td><td>51000</td><td>34911</td><td>13920</td><td>28   </td><td> 9.05</td><td> 9.16</td></tr>\n",
       "\t<tr><td>1979 </td><td>58900</td><td>42689</td><td>15700</td><td>26   </td><td>10.60</td><td>10.86</td><td>55400</td><td>39646</td><td>15340</td><td>28   </td><td>10.27</td><td>10.38</td></tr>\n",
       "\t<tr><td>1980 </td><td>66800</td><td>48174</td><td>16678</td><td>27   </td><td>12.36</td><td>12.72</td><td>59850</td><td>42320</td><td>16811</td><td>29   </td><td>12.38</td><td>12.69</td></tr>\n",
       "\t<tr><td>1981 </td><td>71800</td><td>51337</td><td>17745</td><td>27   </td><td>14.32</td><td>14.75</td><td>59200</td><td>43483</td><td>16820</td><td>28   </td><td>14.87</td><td>15.42</td></tr>\n",
       "\t<tr><td>1982 </td><td>72600</td><td>52072</td><td>18652</td><td>26   </td><td>14.49</td><td>15.04</td><td>68500</td><td>48940</td><td>20640</td><td>31   </td><td>15.34</td><td>15.99</td></tr>\n",
       "\t<tr><td>1983 </td><td>74600</td><td>55418</td><td>17904</td><td>24   </td><td>12.33</td><td>12.86</td><td>70050</td><td>50821</td><td>20678</td><td>29   </td><td>12.54</td><td>13.06</td></tr>\n",
       "</tbody>\n",
       "</table>\n"
      ],
      "text/latex": [
       "\\begin{tabular}{r|lllllllllllll}\n",
       " Year & US\\_Med\\_PP & US\\_Med\\_Mtg & US\\_Med\\_DP & US\\_Med\\_DP\\_Per & US\\_Med\\_Rate & US\\_Med\\_APR & NE\\_Med\\_PP & NE\\_Med\\_Mtg & NE\\_Med\\_DP & NE\\_Med\\_DP\\_Per & NE\\_Med\\_Rate & NE\\_Med\\_APR\\\\\n",
       "\\hline\n",
       "\t 1978  & 51900 & 38869 & 12927 & 25    &  9.40 &  9.62 & 51000 & 34911 & 13920 & 28    &  9.05 &  9.16\\\\\n",
       "\t 1979  & 58900 & 42689 & 15700 & 26    & 10.60 & 10.86 & 55400 & 39646 & 15340 & 28    & 10.27 & 10.38\\\\\n",
       "\t 1980  & 66800 & 48174 & 16678 & 27    & 12.36 & 12.72 & 59850 & 42320 & 16811 & 29    & 12.38 & 12.69\\\\\n",
       "\t 1981  & 71800 & 51337 & 17745 & 27    & 14.32 & 14.75 & 59200 & 43483 & 16820 & 28    & 14.87 & 15.42\\\\\n",
       "\t 1982  & 72600 & 52072 & 18652 & 26    & 14.49 & 15.04 & 68500 & 48940 & 20640 & 31    & 15.34 & 15.99\\\\\n",
       "\t 1983  & 74600 & 55418 & 17904 & 24    & 12.33 & 12.86 & 70050 & 50821 & 20678 & 29    & 12.54 & 13.06\\\\\n",
       "\\end{tabular}\n"
      ],
      "text/markdown": [
       "\n",
       "Year | US_Med_PP | US_Med_Mtg | US_Med_DP | US_Med_DP_Per | US_Med_Rate | US_Med_APR | NE_Med_PP | NE_Med_Mtg | NE_Med_DP | NE_Med_DP_Per | NE_Med_Rate | NE_Med_APR | \n",
       "|---|---|---|---|---|---|\n",
       "| 1978  | 51900 | 38869 | 12927 | 25    |  9.40 |  9.62 | 51000 | 34911 | 13920 | 28    |  9.05 |  9.16 | \n",
       "| 1979  | 58900 | 42689 | 15700 | 26    | 10.60 | 10.86 | 55400 | 39646 | 15340 | 28    | 10.27 | 10.38 | \n",
       "| 1980  | 66800 | 48174 | 16678 | 27    | 12.36 | 12.72 | 59850 | 42320 | 16811 | 29    | 12.38 | 12.69 | \n",
       "| 1981  | 71800 | 51337 | 17745 | 27    | 14.32 | 14.75 | 59200 | 43483 | 16820 | 28    | 14.87 | 15.42 | \n",
       "| 1982  | 72600 | 52072 | 18652 | 26    | 14.49 | 15.04 | 68500 | 48940 | 20640 | 31    | 15.34 | 15.99 | \n",
       "| 1983  | 74600 | 55418 | 17904 | 24    | 12.33 | 12.86 | 70050 | 50821 | 20678 | 29    | 12.54 | 13.06 | \n",
       "\n",
       "\n"
      ],
      "text/plain": [
       "  Year US_Med_PP US_Med_Mtg US_Med_DP US_Med_DP_Per US_Med_Rate US_Med_APR\n",
       "1 1978 51900     38869      12927     25             9.40        9.62     \n",
       "2 1979 58900     42689      15700     26            10.60       10.86     \n",
       "3 1980 66800     48174      16678     27            12.36       12.72     \n",
       "4 1981 71800     51337      17745     27            14.32       14.75     \n",
       "5 1982 72600     52072      18652     26            14.49       15.04     \n",
       "6 1983 74600     55418      17904     24            12.33       12.86     \n",
       "  NE_Med_PP NE_Med_Mtg NE_Med_DP NE_Med_DP_Per NE_Med_Rate NE_Med_APR\n",
       "1 51000     34911      13920     28             9.05        9.16     \n",
       "2 55400     39646      15340     28            10.27       10.38     \n",
       "3 59850     42320      16811     29            12.38       12.69     \n",
       "4 59200     43483      16820     28            14.87       15.42     \n",
       "5 68500     48940      20640     31            15.34       15.99     \n",
       "6 70050     50821      20678     29            12.54       13.06     "
      ]
     },
     "metadata": {},
     "output_type": "display_data"
    }
   ],
   "source": [
    "cost_df <- merge(US, NE, by='Year')\n",
    "head(cost_df)"
   ]
  },
  {
   "cell_type": "code",
   "execution_count": 218,
   "metadata": {},
   "outputs": [
    {
     "data": {
      "text/html": [
       "<table>\n",
       "<thead><tr><th scope=col>Year</th><th scope=col>US_Med_PP</th><th scope=col>US_Med_Mtg</th><th scope=col>US_Med_DP</th><th scope=col>US_Med_DP_Per</th><th scope=col>US_Med_Rate</th><th scope=col>US_Med_APR</th><th scope=col>NE_Med_PP</th><th scope=col>NE_Med_Mtg</th><th scope=col>NE_Med_DP</th><th scope=col>⋯</th><th scope=col>MW_Med_DP</th><th scope=col>MW_Med_DP_Per</th><th scope=col>MW_Med_Rate</th><th scope=col>MW_Med_APR</th><th scope=col>W_Med_PP</th><th scope=col>W_Med_Mtg</th><th scope=col>W_Med_DP</th><th scope=col>W_Med_DP_Per</th><th scope=col>W_Med_Rate</th><th scope=col>W_Med_APR</th></tr></thead>\n",
       "<tbody>\n",
       "\t<tr><td>1978    </td><td>51900   </td><td>38869   </td><td>12927   </td><td>25      </td><td> 9.40   </td><td> 9.62   </td><td>51000   </td><td>34911   </td><td>13920   </td><td><U+22EF></td><td>13404   </td><td>26      </td><td> 9.38   </td><td> 9.56   </td><td>57500   </td><td>44579   </td><td>13858   </td><td>23      </td><td> 9.65   </td><td> 9.90   </td></tr>\n",
       "\t<tr><td>1979    </td><td>58900   </td><td>42689   </td><td>15700   </td><td>26      </td><td>10.60   </td><td>10.86   </td><td>55400   </td><td>39646   </td><td>15340   </td><td><U+22EF></td><td>16184   </td><td>28      </td><td>10.55   </td><td>10.74   </td><td>69000   </td><td>51457   </td><td>16393   </td><td>24      </td><td>10.75   </td><td>11.09   </td></tr>\n",
       "\t<tr><td>1980    </td><td>66800   </td><td>48174   </td><td>16678   </td><td>27      </td><td>12.36   </td><td>12.72   </td><td>59850   </td><td>42320   </td><td>16811   </td><td><U+22EF></td><td>15321   </td><td>28      </td><td>12.44   </td><td>12.83   </td><td>78100   </td><td>60137   </td><td>19447   </td><td>24      </td><td>12.26   </td><td>12.65   </td></tr>\n",
       "\t<tr><td>1981    </td><td>71800   </td><td>51337   </td><td>17745   </td><td>27      </td><td>14.32   </td><td>14.75   </td><td>59200   </td><td>43483   </td><td>16820   </td><td><U+22EF></td><td>17593   </td><td>28      </td><td>13.97   </td><td>14.46   </td><td>82100   </td><td>63359   </td><td>18726   </td><td>24      </td><td>13.97   </td><td>14.37   </td></tr>\n",
       "\t<tr><td>1982    </td><td>72600   </td><td>52072   </td><td>18652   </td><td>26      </td><td>14.49   </td><td>15.04   </td><td>68500   </td><td>48940   </td><td>20640   </td><td><U+22EF></td><td>17252   </td><td>28      </td><td>14.24   </td><td>14.60   </td><td>88700   </td><td>66882   </td><td>21190   </td><td>24      </td><td>14.55   </td><td>15.04   </td></tr>\n",
       "\t<tr><td>1983    </td><td>74600   </td><td>55418   </td><td>17904   </td><td>24      </td><td>12.33   </td><td>12.86   </td><td>70050   </td><td>50821   </td><td>20678   </td><td><U+22EF></td><td>16371   </td><td>24      </td><td>12.21   </td><td>12.67   </td><td>86400   </td><td>66960   </td><td>19564   </td><td>22      </td><td>12.33   </td><td>12.83   </td></tr>\n",
       "</tbody>\n",
       "</table>\n"
      ],
      "text/latex": [
       "\\begin{tabular}{r|lllllllllllllllllllllllllllllll}\n",
       " Year & US\\_Med\\_PP & US\\_Med\\_Mtg & US\\_Med\\_DP & US\\_Med\\_DP\\_Per & US\\_Med\\_Rate & US\\_Med\\_APR & NE\\_Med\\_PP & NE\\_Med\\_Mtg & NE\\_Med\\_DP & ⋯ & MW\\_Med\\_DP & MW\\_Med\\_DP\\_Per & MW\\_Med\\_Rate & MW\\_Med\\_APR & W\\_Med\\_PP & W\\_Med\\_Mtg & W\\_Med\\_DP & W\\_Med\\_DP\\_Per & W\\_Med\\_Rate & W\\_Med\\_APR\\\\\n",
       "\\hline\n",
       "\t 1978     & 51900    & 38869    & 12927    & 25       &  9.40    &  9.62    & 51000    & 34911    & 13920    & <U+22EF> & 13404    & 26       &  9.38    &  9.56    & 57500    & 44579    & 13858    & 23       &  9.65    &  9.90   \\\\\n",
       "\t 1979     & 58900    & 42689    & 15700    & 26       & 10.60    & 10.86    & 55400    & 39646    & 15340    & <U+22EF> & 16184    & 28       & 10.55    & 10.74    & 69000    & 51457    & 16393    & 24       & 10.75    & 11.09   \\\\\n",
       "\t 1980     & 66800    & 48174    & 16678    & 27       & 12.36    & 12.72    & 59850    & 42320    & 16811    & <U+22EF> & 15321    & 28       & 12.44    & 12.83    & 78100    & 60137    & 19447    & 24       & 12.26    & 12.65   \\\\\n",
       "\t 1981     & 71800    & 51337    & 17745    & 27       & 14.32    & 14.75    & 59200    & 43483    & 16820    & <U+22EF> & 17593    & 28       & 13.97    & 14.46    & 82100    & 63359    & 18726    & 24       & 13.97    & 14.37   \\\\\n",
       "\t 1982     & 72600    & 52072    & 18652    & 26       & 14.49    & 15.04    & 68500    & 48940    & 20640    & <U+22EF> & 17252    & 28       & 14.24    & 14.60    & 88700    & 66882    & 21190    & 24       & 14.55    & 15.04   \\\\\n",
       "\t 1983     & 74600    & 55418    & 17904    & 24       & 12.33    & 12.86    & 70050    & 50821    & 20678    & <U+22EF> & 16371    & 24       & 12.21    & 12.67    & 86400    & 66960    & 19564    & 22       & 12.33    & 12.83   \\\\\n",
       "\\end{tabular}\n"
      ],
      "text/markdown": [
       "\n",
       "Year | US_Med_PP | US_Med_Mtg | US_Med_DP | US_Med_DP_Per | US_Med_Rate | US_Med_APR | NE_Med_PP | NE_Med_Mtg | NE_Med_DP | ⋯ | MW_Med_DP | MW_Med_DP_Per | MW_Med_Rate | MW_Med_APR | W_Med_PP | W_Med_Mtg | W_Med_DP | W_Med_DP_Per | W_Med_Rate | W_Med_APR | \n",
       "|---|---|---|---|---|---|\n",
       "| 1978     | 51900    | 38869    | 12927    | 25       |  9.40    |  9.62    | 51000    | 34911    | 13920    | <U+22EF> | 13404    | 26       |  9.38    |  9.56    | 57500    | 44579    | 13858    | 23       |  9.65    |  9.90    | \n",
       "| 1979     | 58900    | 42689    | 15700    | 26       | 10.60    | 10.86    | 55400    | 39646    | 15340    | <U+22EF> | 16184    | 28       | 10.55    | 10.74    | 69000    | 51457    | 16393    | 24       | 10.75    | 11.09    | \n",
       "| 1980     | 66800    | 48174    | 16678    | 27       | 12.36    | 12.72    | 59850    | 42320    | 16811    | <U+22EF> | 15321    | 28       | 12.44    | 12.83    | 78100    | 60137    | 19447    | 24       | 12.26    | 12.65    | \n",
       "| 1981     | 71800    | 51337    | 17745    | 27       | 14.32    | 14.75    | 59200    | 43483    | 16820    | <U+22EF> | 17593    | 28       | 13.97    | 14.46    | 82100    | 63359    | 18726    | 24       | 13.97    | 14.37    | \n",
       "| 1982     | 72600    | 52072    | 18652    | 26       | 14.49    | 15.04    | 68500    | 48940    | 20640    | <U+22EF> | 17252    | 28       | 14.24    | 14.60    | 88700    | 66882    | 21190    | 24       | 14.55    | 15.04    | \n",
       "| 1983     | 74600    | 55418    | 17904    | 24       | 12.33    | 12.86    | 70050    | 50821    | 20678    | <U+22EF> | 16371    | 24       | 12.21    | 12.67    | 86400    | 66960    | 19564    | 22       | 12.33    | 12.83    | \n",
       "\n",
       "\n"
      ],
      "text/plain": [
       "  Year US_Med_PP US_Med_Mtg US_Med_DP US_Med_DP_Per US_Med_Rate US_Med_APR\n",
       "1 1978 51900     38869      12927     25             9.40        9.62     \n",
       "2 1979 58900     42689      15700     26            10.60       10.86     \n",
       "3 1980 66800     48174      16678     27            12.36       12.72     \n",
       "4 1981 71800     51337      17745     27            14.32       14.75     \n",
       "5 1982 72600     52072      18652     26            14.49       15.04     \n",
       "6 1983 74600     55418      17904     24            12.33       12.86     \n",
       "  NE_Med_PP NE_Med_Mtg NE_Med_DP <U+22EF>   MW_Med_DP MW_Med_DP_Per MW_Med_Rate\n",
       "1 51000     34911      13920     <U+22EF> 13404     26             9.38      \n",
       "2 55400     39646      15340     <U+22EF> 16184     28            10.55      \n",
       "3 59850     42320      16811     <U+22EF> 15321     28            12.44      \n",
       "4 59200     43483      16820     <U+22EF> 17593     28            13.97      \n",
       "5 68500     48940      20640     <U+22EF> 17252     28            14.24      \n",
       "6 70050     50821      20678     <U+22EF> 16371     24            12.21      \n",
       "  MW_Med_APR W_Med_PP W_Med_Mtg W_Med_DP W_Med_DP_Per W_Med_Rate W_Med_APR\n",
       "1  9.56      57500    44579     13858    23            9.65       9.90    \n",
       "2 10.74      69000    51457     16393    24           10.75      11.09    \n",
       "3 12.83      78100    60137     19447    24           12.26      12.65    \n",
       "4 14.46      82100    63359     18726    24           13.97      14.37    \n",
       "5 14.60      88700    66882     21190    24           14.55      15.04    \n",
       "6 12.67      86400    66960     19564    22           12.33      12.83    "
      ]
     },
     "metadata": {},
     "output_type": "display_data"
    }
   ],
   "source": [
    "cost_df <- merge(cost_df, S, by='Year')\n",
    "cost_df <- merge(cost_df, MW, by='Year')\n",
    "cost_df <- merge(cost_df, W, by='Year')\n",
    "head(cost_df)"
   ]
  },
  {
   "cell_type": "code",
   "execution_count": 219,
   "metadata": {},
   "outputs": [
    {
     "data": {
      "text/html": [
       "<table>\n",
       "<thead><tr><th scope=col>Year</th><th scope=col>US_Med_PP</th><th scope=col>US_Med_Mtg</th><th scope=col>US_Med_DP</th><th scope=col>US_Med_DP_Per</th><th scope=col>US_Med_Rate</th><th scope=col>US_Med_APR</th><th scope=col>NE_Med_PP</th><th scope=col>NE_Med_Mtg</th><th scope=col>NE_Med_DP</th><th scope=col>⋯</th><th scope=col>MW_Med_DP</th><th scope=col>MW_Med_DP_Per</th><th scope=col>MW_Med_Rate</th><th scope=col>MW_Med_APR</th><th scope=col>W_Med_PP</th><th scope=col>W_Med_Mtg</th><th scope=col>W_Med_DP</th><th scope=col>W_Med_DP_Per</th><th scope=col>W_Med_Rate</th><th scope=col>W_Med_APR</th></tr></thead>\n",
       "<tbody>\n",
       "\t<tr><td>2017    </td><td>321552  </td><td>253974  </td><td>62241   </td><td>20      </td><td>4.04    </td><td>4.14    </td><td>408584  </td><td>318827  </td><td>89758   </td><td><U+22EF></td><td>48968   </td><td>18      </td><td>4.05    </td><td>4.18    </td><td>358043  </td><td>295339  </td><td>70732   </td><td>21      </td><td>4.03    </td><td>4.18    </td></tr>\n",
       "\t<tr><td>2016    </td><td>329683  </td><td>265476  </td><td>64634   </td><td>19      </td><td>3.72    </td><td>3.85    </td><td>424666  </td><td>333744  </td><td>98356   </td><td><U+22EF></td><td>47710   </td><td>17      </td><td>3.72    </td><td>3.88    </td><td>351122  </td><td>298311  </td><td>76885   </td><td>22      </td><td>3.72    </td><td>3.88    </td></tr>\n",
       "\t<tr><td>2015    </td><td>328297  </td><td>257254  </td><td>68170   </td><td>21      </td><td>3.88    </td><td>4.05    </td><td>397996  </td><td>306852  </td><td>92956   </td><td><U+22EF></td><td>48892   </td><td>18      </td><td>3.90    </td><td>4.07    </td><td>372760  </td><td>306386  </td><td>77786   </td><td>23      </td><td>3.89    </td><td>4.06    </td></tr>\n",
       "\t<tr><td>2014    </td><td>301842  </td><td>242818  </td><td>63736   </td><td>21      </td><td>4.15    </td><td>4.30    </td><td>375164  </td><td>289665  </td><td>85500   </td><td><U+22EF></td><td>46646   </td><td>18      </td><td>4.18    </td><td>4.35    </td><td>355860  </td><td>284605  </td><td>77171   </td><td>23      </td><td>4.16    </td><td>4.32    </td></tr>\n",
       "\t<tr><td>2013    </td><td>290968  </td><td>229912  </td><td>60912   </td><td>21      </td><td>3.84    </td><td>3.98    </td><td>313370  </td><td>246542  </td><td>67912   </td><td><U+22EF></td><td>43102   </td><td>19      </td><td>3.84    </td><td>4.01    </td><td>345270  </td><td>263096  </td><td>74460   </td><td>22      </td><td>3.85    </td><td>4.01    </td></tr>\n",
       "\t<tr><td>2012    </td><td>291704  </td><td>225034  </td><td>66670   </td><td>23      </td><td>3.65    </td><td>3.76    </td><td>361594  </td><td>263406  </td><td>98187   </td><td><U+22EF></td><td>47768   </td><td>21      </td><td>3.64    </td><td>3.77    </td><td>327960  </td><td>243147  </td><td>75295   </td><td>25      </td><td>3.67    </td><td>3.81    </td></tr>\n",
       "</tbody>\n",
       "</table>\n"
      ],
      "text/latex": [
       "\\begin{tabular}{r|lllllllllllllllllllllllllllllll}\n",
       " Year & US\\_Med\\_PP & US\\_Med\\_Mtg & US\\_Med\\_DP & US\\_Med\\_DP\\_Per & US\\_Med\\_Rate & US\\_Med\\_APR & NE\\_Med\\_PP & NE\\_Med\\_Mtg & NE\\_Med\\_DP & ⋯ & MW\\_Med\\_DP & MW\\_Med\\_DP\\_Per & MW\\_Med\\_Rate & MW\\_Med\\_APR & W\\_Med\\_PP & W\\_Med\\_Mtg & W\\_Med\\_DP & W\\_Med\\_DP\\_Per & W\\_Med\\_Rate & W\\_Med\\_APR\\\\\n",
       "\\hline\n",
       "\t 2017     & 321552   & 253974   & 62241    & 20       & 4.04     & 4.14     & 408584   & 318827   & 89758    & <U+22EF> & 48968    & 18       & 4.05     & 4.18     & 358043   & 295339   & 70732    & 21       & 4.03     & 4.18    \\\\\n",
       "\t 2016     & 329683   & 265476   & 64634    & 19       & 3.72     & 3.85     & 424666   & 333744   & 98356    & <U+22EF> & 47710    & 17       & 3.72     & 3.88     & 351122   & 298311   & 76885    & 22       & 3.72     & 3.88    \\\\\n",
       "\t 2015     & 328297   & 257254   & 68170    & 21       & 3.88     & 4.05     & 397996   & 306852   & 92956    & <U+22EF> & 48892    & 18       & 3.90     & 4.07     & 372760   & 306386   & 77786    & 23       & 3.89     & 4.06    \\\\\n",
       "\t 2014     & 301842   & 242818   & 63736    & 21       & 4.15     & 4.30     & 375164   & 289665   & 85500    & <U+22EF> & 46646    & 18       & 4.18     & 4.35     & 355860   & 284605   & 77171    & 23       & 4.16     & 4.32    \\\\\n",
       "\t 2013     & 290968   & 229912   & 60912    & 21       & 3.84     & 3.98     & 313370   & 246542   & 67912    & <U+22EF> & 43102    & 19       & 3.84     & 4.01     & 345270   & 263096   & 74460    & 22       & 3.85     & 4.01    \\\\\n",
       "\t 2012     & 291704   & 225034   & 66670    & 23       & 3.65     & 3.76     & 361594   & 263406   & 98187    & <U+22EF> & 47768    & 21       & 3.64     & 3.77     & 327960   & 243147   & 75295    & 25       & 3.67     & 3.81    \\\\\n",
       "\\end{tabular}\n"
      ],
      "text/markdown": [
       "\n",
       "Year | US_Med_PP | US_Med_Mtg | US_Med_DP | US_Med_DP_Per | US_Med_Rate | US_Med_APR | NE_Med_PP | NE_Med_Mtg | NE_Med_DP | ⋯ | MW_Med_DP | MW_Med_DP_Per | MW_Med_Rate | MW_Med_APR | W_Med_PP | W_Med_Mtg | W_Med_DP | W_Med_DP_Per | W_Med_Rate | W_Med_APR | \n",
       "|---|---|---|---|---|---|\n",
       "| 2017     | 321552   | 253974   | 62241    | 20       | 4.04     | 4.14     | 408584   | 318827   | 89758    | <U+22EF> | 48968    | 18       | 4.05     | 4.18     | 358043   | 295339   | 70732    | 21       | 4.03     | 4.18     | \n",
       "| 2016     | 329683   | 265476   | 64634    | 19       | 3.72     | 3.85     | 424666   | 333744   | 98356    | <U+22EF> | 47710    | 17       | 3.72     | 3.88     | 351122   | 298311   | 76885    | 22       | 3.72     | 3.88     | \n",
       "| 2015     | 328297   | 257254   | 68170    | 21       | 3.88     | 4.05     | 397996   | 306852   | 92956    | <U+22EF> | 48892    | 18       | 3.90     | 4.07     | 372760   | 306386   | 77786    | 23       | 3.89     | 4.06     | \n",
       "| 2014     | 301842   | 242818   | 63736    | 21       | 4.15     | 4.30     | 375164   | 289665   | 85500    | <U+22EF> | 46646    | 18       | 4.18     | 4.35     | 355860   | 284605   | 77171    | 23       | 4.16     | 4.32     | \n",
       "| 2013     | 290968   | 229912   | 60912    | 21       | 3.84     | 3.98     | 313370   | 246542   | 67912    | <U+22EF> | 43102    | 19       | 3.84     | 4.01     | 345270   | 263096   | 74460    | 22       | 3.85     | 4.01     | \n",
       "| 2012     | 291704   | 225034   | 66670    | 23       | 3.65     | 3.76     | 361594   | 263406   | 98187    | <U+22EF> | 47768    | 21       | 3.64     | 3.77     | 327960   | 243147   | 75295    | 25       | 3.67     | 3.81     | \n",
       "\n",
       "\n"
      ],
      "text/plain": [
       "  Year US_Med_PP US_Med_Mtg US_Med_DP US_Med_DP_Per US_Med_Rate US_Med_APR\n",
       "1 2017 321552    253974     62241     20            4.04        4.14      \n",
       "2 2016 329683    265476     64634     19            3.72        3.85      \n",
       "3 2015 328297    257254     68170     21            3.88        4.05      \n",
       "4 2014 301842    242818     63736     21            4.15        4.30      \n",
       "5 2013 290968    229912     60912     21            3.84        3.98      \n",
       "6 2012 291704    225034     66670     23            3.65        3.76      \n",
       "  NE_Med_PP NE_Med_Mtg NE_Med_DP <U+22EF>   MW_Med_DP MW_Med_DP_Per MW_Med_Rate\n",
       "1 408584    318827     89758     <U+22EF> 48968     18            4.05       \n",
       "2 424666    333744     98356     <U+22EF> 47710     17            3.72       \n",
       "3 397996    306852     92956     <U+22EF> 48892     18            3.90       \n",
       "4 375164    289665     85500     <U+22EF> 46646     18            4.18       \n",
       "5 313370    246542     67912     <U+22EF> 43102     19            3.84       \n",
       "6 361594    263406     98187     <U+22EF> 47768     21            3.64       \n",
       "  MW_Med_APR W_Med_PP W_Med_Mtg W_Med_DP W_Med_DP_Per W_Med_Rate W_Med_APR\n",
       "1 4.18       358043   295339    70732    21           4.03       4.18     \n",
       "2 3.88       351122   298311    76885    22           3.72       3.88     \n",
       "3 4.07       372760   306386    77786    23           3.89       4.06     \n",
       "4 4.35       355860   284605    77171    23           4.16       4.32     \n",
       "5 4.01       345270   263096    74460    22           3.85       4.01     \n",
       "6 3.77       327960   243147    75295    25           3.67       3.81     "
      ]
     },
     "metadata": {},
     "output_type": "display_data"
    }
   ],
   "source": [
    "cost_df <- arrange(cost_df, desc(Year))\n",
    "head(cost_df)"
   ]
  },
  {
   "cell_type": "code",
   "execution_count": 220,
   "metadata": {
    "collapsed": true
   },
   "outputs": [],
   "source": [
    "write.csv(cost_df, file = \"Cost.csv\")"
   ]
  },
  {
   "cell_type": "code",
   "execution_count": null,
   "metadata": {
    "collapsed": true
   },
   "outputs": [],
   "source": []
  },
  {
   "cell_type": "code",
   "execution_count": null,
   "metadata": {
    "collapsed": true
   },
   "outputs": [],
   "source": []
  }
 ],
 "metadata": {
  "kernelspec": {
   "display_name": "R",
   "language": "R",
   "name": "ir"
  },
  "language_info": {
   "codemirror_mode": "r",
   "file_extension": ".r",
   "mimetype": "text/x-r-source",
   "name": "R",
   "pygments_lexer": "r",
   "version": "3.4.1"
  }
 },
 "nbformat": 4,
 "nbformat_minor": 2
}
