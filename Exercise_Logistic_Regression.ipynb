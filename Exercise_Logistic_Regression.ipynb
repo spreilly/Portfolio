{
 "cells": [
  {
   "cell_type": "markdown",
   "metadata": {},
   "source": [
    "### Logistic regression - Exercises"
   ]
  },
  {
   "cell_type": "markdown",
   "metadata": {},
   "source": [
    "Loans data captured information on loan repayment by individuals. We have 13 independent variables and 1 dependent variable called not.fully.paid. Build a logistic regreession model to predict if an individual is a loan defaulter or not. \n",
    "\n",
    "Load the loans dataset from /datasets/loans/ directory into a dataframe called 'loans_data'."
   ]
  },
  {
   "cell_type": "code",
   "execution_count": 9,
   "metadata": {
    "collapsed": true
   },
   "outputs": [],
   "source": [
    "#load the loans dataset\n",
    "loans_data=read.csv(\"/dsa/data/all_datasets/loans/loans.csv\")"
   ]
  },
  {
   "cell_type": "code",
   "execution_count": 10,
   "metadata": {},
   "outputs": [
    {
     "name": "stdout",
     "output_type": "stream",
     "text": [
      "'data.frame':\t9578 obs. of  14 variables:\n",
      " $ credit.policy    : int  1 1 1 1 1 1 1 1 1 1 ...\n",
      " $ purpose          : Factor w/ 7 levels \"all_other\",\"credit_card\",..: 3 2 3 3 2 2 3 1 5 3 ...\n",
      " $ int.rate         : num  0.119 0.107 0.136 0.101 0.143 ...\n",
      " $ installment      : num  829 228 367 162 103 ...\n",
      " $ log.annual.inc   : num  11.4 11.1 10.4 11.4 11.3 ...\n",
      " $ dti              : num  19.5 14.3 11.6 8.1 15 ...\n",
      " $ fico             : int  737 707 682 712 667 727 667 722 682 707 ...\n",
      " $ days.with.cr.line: num  5640 2760 4710 2700 4066 ...\n",
      " $ revol.bal        : int  28854 33623 3511 33667 4740 50807 3839 24220 69909 5630 ...\n",
      " $ revol.util       : num  52.1 76.7 25.6 73.2 39.5 51 76.8 68.6 51.1 23 ...\n",
      " $ inq.last.6mths   : int  0 0 1 1 0 0 0 0 1 1 ...\n",
      " $ delinq.2yrs      : int  0 0 0 0 1 0 0 0 0 0 ...\n",
      " $ pub.rec          : int  0 0 0 0 0 0 1 0 0 0 ...\n",
      " $ not.fully.paid   : int  0 0 0 0 0 0 1 1 0 0 ...\n"
     ]
    },
    {
     "data": {
      "text/html": [
       "<table>\n",
       "<thead><tr><th scope=col>credit.policy</th><th scope=col>purpose</th><th scope=col>int.rate</th><th scope=col>installment</th><th scope=col>log.annual.inc</th><th scope=col>dti</th><th scope=col>fico</th><th scope=col>days.with.cr.line</th><th scope=col>revol.bal</th><th scope=col>revol.util</th><th scope=col>inq.last.6mths</th><th scope=col>delinq.2yrs</th><th scope=col>pub.rec</th><th scope=col>not.fully.paid</th></tr></thead>\n",
       "<tbody>\n",
       "\t<tr><td>1                 </td><td>debt_consolidation</td><td>0.1189            </td><td>829.10            </td><td>11.35041          </td><td>19.48             </td><td>737               </td><td>5639.958          </td><td>28854             </td><td>52.1              </td><td>0                 </td><td>0                 </td><td>0                 </td><td>0                 </td></tr>\n",
       "\t<tr><td>1                 </td><td>credit_card       </td><td>0.1071            </td><td>228.22            </td><td>11.08214          </td><td>14.29             </td><td>707               </td><td>2760.000          </td><td>33623             </td><td>76.7              </td><td>0                 </td><td>0                 </td><td>0                 </td><td>0                 </td></tr>\n",
       "\t<tr><td>1                 </td><td>debt_consolidation</td><td>0.1357            </td><td>366.86            </td><td>10.37349          </td><td>11.63             </td><td>682               </td><td>4710.000          </td><td> 3511             </td><td>25.6              </td><td>1                 </td><td>0                 </td><td>0                 </td><td>0                 </td></tr>\n",
       "\t<tr><td>1                 </td><td>debt_consolidation</td><td>0.1008            </td><td>162.34            </td><td>11.35041          </td><td> 8.10             </td><td>712               </td><td>2699.958          </td><td>33667             </td><td>73.2              </td><td>1                 </td><td>0                 </td><td>0                 </td><td>0                 </td></tr>\n",
       "\t<tr><td>1                 </td><td>credit_card       </td><td>0.1426            </td><td>102.92            </td><td>11.29973          </td><td>14.97             </td><td>667               </td><td>4066.000          </td><td> 4740             </td><td>39.5              </td><td>0                 </td><td>1                 </td><td>0                 </td><td>0                 </td></tr>\n",
       "\t<tr><td>1                 </td><td>credit_card       </td><td>0.0788            </td><td>125.13            </td><td>11.90497          </td><td>16.98             </td><td>727               </td><td>6120.042          </td><td>50807             </td><td>51.0              </td><td>0                 </td><td>0                 </td><td>0                 </td><td>0                 </td></tr>\n",
       "</tbody>\n",
       "</table>\n"
      ],
      "text/latex": [
       "\\begin{tabular}{r|llllllllllllll}\n",
       " credit.policy & purpose & int.rate & installment & log.annual.inc & dti & fico & days.with.cr.line & revol.bal & revol.util & inq.last.6mths & delinq.2yrs & pub.rec & not.fully.paid\\\\\n",
       "\\hline\n",
       "\t 1                    & debt\\_consolidation & 0.1189               & 829.10               & 11.35041             & 19.48                & 737                  & 5639.958             & 28854                & 52.1                 & 0                    & 0                    & 0                    & 0                   \\\\\n",
       "\t 1                    & credit\\_card        & 0.1071               & 228.22               & 11.08214             & 14.29                & 707                  & 2760.000             & 33623                & 76.7                 & 0                    & 0                    & 0                    & 0                   \\\\\n",
       "\t 1                    & debt\\_consolidation & 0.1357               & 366.86               & 10.37349             & 11.63                & 682                  & 4710.000             &  3511                & 25.6                 & 1                    & 0                    & 0                    & 0                   \\\\\n",
       "\t 1                    & debt\\_consolidation & 0.1008               & 162.34               & 11.35041             &  8.10                & 712                  & 2699.958             & 33667                & 73.2                 & 1                    & 0                    & 0                    & 0                   \\\\\n",
       "\t 1                    & credit\\_card        & 0.1426               & 102.92               & 11.29973             & 14.97                & 667                  & 4066.000             &  4740                & 39.5                 & 0                    & 1                    & 0                    & 0                   \\\\\n",
       "\t 1                    & credit\\_card        & 0.0788               & 125.13               & 11.90497             & 16.98                & 727                  & 6120.042             & 50807                & 51.0                 & 0                    & 0                    & 0                    & 0                   \\\\\n",
       "\\end{tabular}\n"
      ],
      "text/markdown": [
       "\n",
       "credit.policy | purpose | int.rate | installment | log.annual.inc | dti | fico | days.with.cr.line | revol.bal | revol.util | inq.last.6mths | delinq.2yrs | pub.rec | not.fully.paid | \n",
       "|---|---|---|---|---|---|\n",
       "| 1                  | debt_consolidation | 0.1189             | 829.10             | 11.35041           | 19.48              | 737                | 5639.958           | 28854              | 52.1               | 0                  | 0                  | 0                  | 0                  | \n",
       "| 1                  | credit_card        | 0.1071             | 228.22             | 11.08214           | 14.29              | 707                | 2760.000           | 33623              | 76.7               | 0                  | 0                  | 0                  | 0                  | \n",
       "| 1                  | debt_consolidation | 0.1357             | 366.86             | 10.37349           | 11.63              | 682                | 4710.000           |  3511              | 25.6               | 1                  | 0                  | 0                  | 0                  | \n",
       "| 1                  | debt_consolidation | 0.1008             | 162.34             | 11.35041           |  8.10              | 712                | 2699.958           | 33667              | 73.2               | 1                  | 0                  | 0                  | 0                  | \n",
       "| 1                  | credit_card        | 0.1426             | 102.92             | 11.29973           | 14.97              | 667                | 4066.000           |  4740              | 39.5               | 0                  | 1                  | 0                  | 0                  | \n",
       "| 1                  | credit_card        | 0.0788             | 125.13             | 11.90497           | 16.98              | 727                | 6120.042           | 50807              | 51.0               | 0                  | 0                  | 0                  | 0                  | \n",
       "\n",
       "\n"
      ],
      "text/plain": [
       "  credit.policy purpose            int.rate installment log.annual.inc dti  \n",
       "1 1             debt_consolidation 0.1189   829.10      11.35041       19.48\n",
       "2 1             credit_card        0.1071   228.22      11.08214       14.29\n",
       "3 1             debt_consolidation 0.1357   366.86      10.37349       11.63\n",
       "4 1             debt_consolidation 0.1008   162.34      11.35041        8.10\n",
       "5 1             credit_card        0.1426   102.92      11.29973       14.97\n",
       "6 1             credit_card        0.0788   125.13      11.90497       16.98\n",
       "  fico days.with.cr.line revol.bal revol.util inq.last.6mths delinq.2yrs\n",
       "1 737  5639.958          28854     52.1       0              0          \n",
       "2 707  2760.000          33623     76.7       0              0          \n",
       "3 682  4710.000           3511     25.6       1              0          \n",
       "4 712  2699.958          33667     73.2       1              0          \n",
       "5 667  4066.000           4740     39.5       0              1          \n",
       "6 727  6120.042          50807     51.0       0              0          \n",
       "  pub.rec not.fully.paid\n",
       "1 0       0             \n",
       "2 0       0             \n",
       "3 0       0             \n",
       "4 0       0             \n",
       "5 0       0             \n",
       "6 0       0             "
      ]
     },
     "metadata": {},
     "output_type": "display_data"
    }
   ],
   "source": [
    "str(loans_data)\n",
    "head(loans_data)"
   ]
  },
  {
   "cell_type": "markdown",
   "metadata": {},
   "source": [
    "**Activity 1: ** What proportion of the loans in the dataset were not paid in full?"
   ]
  },
  {
   "cell_type": "code",
   "execution_count": 11,
   "metadata": {},
   "outputs": [
    {
     "data": {
      "text/plain": [
       "\n",
       "   0    1 \n",
       "8045 1533 "
      ]
     },
     "metadata": {},
     "output_type": "display_data"
    },
    {
     "data": {
      "text/html": [
       "0.190553138595401"
      ],
      "text/latex": [
       "0.190553138595401"
      ],
      "text/markdown": [
       "0.190553138595401"
      ],
      "text/plain": [
       "[1] 0.1905531"
      ]
     },
     "metadata": {},
     "output_type": "display_data"
    }
   ],
   "source": [
    "# Your code for activity 1 goes here..\n",
    "\n",
    "table(loans_data$not.fully.paid)\n",
    "\n",
    "1533/8045\n"
   ]
  },
  {
   "cell_type": "markdown",
   "metadata": {},
   "source": [
    "**Activity 2: ** split data into a training and testing set. Use the seed as 144. Put 70% data into train_data dataframe and 30% in test_data dataframe. "
   ]
  },
  {
   "cell_type": "code",
   "execution_count": 12,
   "metadata": {
    "collapsed": true
   },
   "outputs": [],
   "source": [
    "# Your code for activity 2 goes here..\n",
    "\n",
    "library(caTools)\n",
    "set.seed(144)\n",
    "split = sample.split(loans_data$not.fully.paid, SplitRatio = .7)\n",
    "\n",
    "train_data = subset(loans_data, split == TRUE)\n",
    "test_data = subset(loans_data, split == FALSE)\n",
    "\n"
   ]
  },
  {
   "cell_type": "markdown",
   "metadata": {},
   "source": [
    "**Activity 3: ** Build a logistic regression model on train_data to predict not.fully.paid using all the independent variables."
   ]
  },
  {
   "cell_type": "code",
   "execution_count": 17,
   "metadata": {},
   "outputs": [
    {
     "data": {
      "text/plain": [
       "\n",
       "Call:\n",
       "glm(formula = not.fully.paid ~ ., family = binomial, data = train_data)\n",
       "\n",
       "Deviance Residuals: \n",
       "    Min       1Q   Median       3Q      Max  \n",
       "-2.2049  -0.6205  -0.4951  -0.3606   2.6397  \n",
       "\n",
       "Coefficients:\n",
       "                            Estimate Std. Error z value Pr(>|z|)    \n",
       "(Intercept)                9.187e+00  1.554e+00   5.910 3.42e-09 ***\n",
       "credit.policy             -3.368e-01  1.011e-01  -3.332 0.000861 ***\n",
       "purposecredit_card        -6.141e-01  1.344e-01  -4.568 4.93e-06 ***\n",
       "purposedebt_consolidation -3.212e-01  9.183e-02  -3.498 0.000469 ***\n",
       "purposeeducational         1.347e-01  1.753e-01   0.768 0.442201    \n",
       "purposehome_improvement    1.727e-01  1.480e-01   1.167 0.243135    \n",
       "purposemajor_purchase     -4.830e-01  2.009e-01  -2.404 0.016203 *  \n",
       "purposesmall_business      4.120e-01  1.419e-01   2.905 0.003678 ** \n",
       "int.rate                   6.110e-01  2.085e+00   0.293 0.769446    \n",
       "installment                1.275e-03  2.092e-04   6.093 1.11e-09 ***\n",
       "log.annual.inc            -4.337e-01  7.148e-02  -6.067 1.30e-09 ***\n",
       "dti                        4.638e-03  5.502e-03   0.843 0.399288    \n",
       "fico                      -9.317e-03  1.710e-03  -5.448 5.08e-08 ***\n",
       "days.with.cr.line          2.371e-06  1.588e-05   0.149 0.881343    \n",
       "revol.bal                  3.085e-06  1.168e-06   2.641 0.008273 ** \n",
       "revol.util                 1.839e-03  1.535e-03   1.199 0.230722    \n",
       "inq.last.6mths             8.437e-02  1.600e-02   5.275 1.33e-07 ***\n",
       "delinq.2yrs               -8.320e-02  6.561e-02  -1.268 0.204762    \n",
       "pub.rec                    3.300e-01  1.139e-01   2.898 0.003756 ** \n",
       "---\n",
       "Signif. codes:  0 ‘***’ 0.001 ‘**’ 0.01 ‘*’ 0.05 ‘.’ 0.1 ‘ ’ 1\n",
       "\n",
       "(Dispersion parameter for binomial family taken to be 1)\n",
       "\n",
       "    Null deviance: 5896.6  on 6704  degrees of freedom\n",
       "Residual deviance: 5485.2  on 6686  degrees of freedom\n",
       "AIC: 5523.2\n",
       "\n",
       "Number of Fisher Scoring iterations: 5\n"
      ]
     },
     "metadata": {},
     "output_type": "display_data"
    }
   ],
   "source": [
    "# Your code for activity 3 goes here..\n",
    "\n",
    "predict_train = glm(not.fully.paid ~ ., data= train_data, family = binomial)\n",
    "summary(predict_train)"
   ]
  },
  {
   "cell_type": "markdown",
   "metadata": {},
   "source": [
    "**Activity 4: ** Above model predict_train has some variables that are not significant. Remove the variables (purpose, int.rate, dti, days.with.cr.line, revol.util, delinq.2yrs) from the model and rebuild it. Name this new model predict_train1. Look for any change in the AIC value. "
   ]
  },
  {
   "cell_type": "code",
   "execution_count": 19,
   "metadata": {},
   "outputs": [
    {
     "data": {
      "text/plain": [
       "\n",
       "Call:\n",
       "glm(formula = not.fully.paid ~ credit.policy + installment + \n",
       "    log.annual.inc + fico + revol.bal + inq.last.6mths + pub.rec, \n",
       "    family = binomial, data = train_data)\n",
       "\n",
       "Deviance Residuals: \n",
       "    Min       1Q   Median       3Q      Max  \n",
       "-2.1894  -0.6156  -0.5085  -0.3820   2.5298  \n",
       "\n",
       "Coefficients:\n",
       "                 Estimate Std. Error z value Pr(>|z|)    \n",
       "(Intercept)     9.197e+00  1.006e+00   9.145  < 2e-16 ***\n",
       "credit.policy  -3.467e-01  1.001e-01  -3.463 0.000534 ***\n",
       "installment     1.296e-03  1.850e-04   7.004 2.49e-12 ***\n",
       "log.annual.inc -4.414e-01  6.814e-02  -6.478 9.30e-11 ***\n",
       "fico           -9.164e-03  1.084e-03  -8.453  < 2e-16 ***\n",
       "revol.bal       3.827e-06  1.102e-06   3.474 0.000513 ***\n",
       "inq.last.6mths  8.988e-02  1.593e-02   5.641 1.69e-08 ***\n",
       "pub.rec         3.197e-01  1.130e-01   2.830 0.004654 ** \n",
       "---\n",
       "Signif. codes:  0 ‘***’ 0.001 ‘**’ 0.01 ‘*’ 0.05 ‘.’ 0.1 ‘ ’ 1\n",
       "\n",
       "(Dispersion parameter for binomial family taken to be 1)\n",
       "\n",
       "    Null deviance: 5896.6  on 6704  degrees of freedom\n",
       "Residual deviance: 5552.4  on 6697  degrees of freedom\n",
       "AIC: 5568.4\n",
       "\n",
       "Number of Fisher Scoring iterations: 5\n"
      ]
     },
     "metadata": {},
     "output_type": "display_data"
    }
   ],
   "source": [
    "# Your code for activity 4 goes here..\n",
    "\n",
    "predict_train1 = glm(not.fully.paid ~ credit.policy + installment + log.annual.inc + fico + revol.bal +\n",
    "                 inq.last.6mths + pub.rec, data= train_data, family = binomial)\n",
    "summary(predict_train1)\n"
   ]
  },
  {
   "cell_type": "markdown",
   "metadata": {},
   "source": [
    "The AIC value has increased from 5523 to 5568. A model with minimum AIC is the preferred one. So will stick with the model predict_train for doing predictions on test dataset. "
   ]
  },
  {
   "cell_type": "markdown",
   "metadata": {},
   "source": [
    "**Activity 5: ** Predict the outcomes on test dataset loans which are not being paid back in full. Store these predicted probabilities in a variable named predicted.risk."
   ]
  },
  {
   "cell_type": "code",
   "execution_count": 20,
   "metadata": {},
   "outputs": [
    {
     "data": {
      "text/plain": [
       "   Min. 1st Qu.  Median    Mean 3rd Qu.    Max. \n",
       "0.02114 0.09461 0.13697 0.15785 0.19658 0.95373 "
      ]
     },
     "metadata": {},
     "output_type": "display_data"
    }
   ],
   "source": [
    "# Your code for activity 5 goes here..\n",
    "\n",
    "predicted.risk = predict(predict_train, type=\"response\", newdata=test_data)\n",
    "summary(predicted.risk)\n",
    "\n",
    "\n",
    "\n"
   ]
  },
  {
   "cell_type": "markdown",
   "metadata": {},
   "source": [
    "**Activity 6: ** Compute the confusion matrix between variables not.fully.paid in test_data and predicted.risk using a threshold of 0.5"
   ]
  },
  {
   "cell_type": "code",
   "execution_count": 21,
   "metadata": {},
   "outputs": [
    {
     "data": {
      "text/plain": [
       "   \n",
       "    FALSE TRUE\n",
       "  0  2400   13\n",
       "  1   457    3"
      ]
     },
     "metadata": {},
     "output_type": "display_data"
    }
   ],
   "source": [
    "# Your code for activity 6 goes here..\n",
    "\n",
    "table(test_data$not.fully.paid, predicted.risk > 0.5)\n",
    "\n",
    "\n"
   ]
  },
  {
   "cell_type": "markdown",
   "metadata": {},
   "source": [
    "**Activity 7: ** What is the accuracy of the model predict_train?"
   ]
  },
  {
   "cell_type": "code",
   "execution_count": 23,
   "metadata": {},
   "outputs": [
    {
     "data": {
      "text/html": [
       "0.836407935955447"
      ],
      "text/latex": [
       "0.836407935955447"
      ],
      "text/markdown": [
       "0.836407935955447"
      ],
      "text/plain": [
       "[1] 0.8364079"
      ]
     },
     "metadata": {},
     "output_type": "display_data"
    }
   ],
   "source": [
    "# Your answer for activity 7 goes here..\n",
    "\n",
    "# Just do the math here using the numbers you got in above confusion matrix. No need of any code. \n",
    "\n",
    "(3+2400)/(2400+13+457+3)\n"
   ]
  },
  {
   "cell_type": "markdown",
   "metadata": {},
   "source": [
    "**Activity 8: ** What is the accuracy of the baseline model?"
   ]
  },
  {
   "cell_type": "code",
   "execution_count": 24,
   "metadata": {},
   "outputs": [
    {
     "data": {
      "text/html": [
       "0.839888618169161"
      ],
      "text/latex": [
       "0.839888618169161"
      ],
      "text/markdown": [
       "0.839888618169161"
      ],
      "text/plain": [
       "[1] 0.8398886"
      ]
     },
     "metadata": {},
     "output_type": "display_data"
    }
   ],
   "source": [
    "# Your answer for activity 8 goes here..\n",
    "\n",
    "# Just do the math here using the numbers you got in above confusion matrix. No need of any code. \n",
    "\n",
    "(13+2400)/(2400+13+457+3)\n"
   ]
  },
  {
   "cell_type": "markdown",
   "metadata": {},
   "source": [
    "**Activity 9: ** Compute the AUC of the model predict_train using the ROCR package."
   ]
  },
  {
   "cell_type": "code",
   "execution_count": 26,
   "metadata": {},
   "outputs": [
    {
     "data": {
      "text/html": [
       "0.672099497288242"
      ],
      "text/latex": [
       "0.672099497288242"
      ],
      "text/markdown": [
       "0.672099497288242"
      ],
      "text/plain": [
       "[1] 0.6720995"
      ]
     },
     "metadata": {},
     "output_type": "display_data"
    }
   ],
   "source": [
    "library(ROCR)\n",
    "\n",
    "# Your answer for activity 9 goes here..\n",
    "ROCR_predictions = prediction(predicted.risk, test_data$not.fully.paid)\n",
    "as.numeric(performance(ROCR_predictions,\"auc\")@y.values)\n",
    "\n",
    "\n"
   ]
  },
  {
   "cell_type": "markdown",
   "metadata": {},
   "source": [
    "**Activity 10: ** Determine the 100th smallest predicted probability of not paying in full by sorting the predicted risks in increasing order and selecting the 100th element of this sorted list"
   ]
  },
  {
   "cell_type": "code",
   "execution_count": 27,
   "metadata": {},
   "outputs": [
    {
     "data": {
      "text/html": [
       "<strong>5334:</strong> 0.0471698340215158"
      ],
      "text/latex": [
       "\\textbf{5334:} 0.0471698340215158"
      ],
      "text/markdown": [
       "**5334:** 0.0471698340215158"
      ],
      "text/plain": [
       "      5334 \n",
       "0.04716983 "
      ]
     },
     "metadata": {},
     "output_type": "display_data"
    }
   ],
   "source": [
    "# Your answer for activity 10 goes here..\n",
    "predicted.risk.ordered <- sort(predicted.risk)\n",
    "predicted.risk.ordered[100]\n",
    "\n"
   ]
  },
  {
   "cell_type": "markdown",
   "metadata": {},
   "source": [
    "# Save your notebook!"
   ]
  }
 ],
 "metadata": {
  "kernelspec": {
   "display_name": "R",
   "language": "R",
   "name": "ir"
  },
  "language_info": {
   "codemirror_mode": "r",
   "file_extension": ".r",
   "mimetype": "text/x-r-source",
   "name": "R",
   "pygments_lexer": "r",
   "version": "3.4.1"
  }
 },
 "nbformat": 4,
 "nbformat_minor": 1
}
